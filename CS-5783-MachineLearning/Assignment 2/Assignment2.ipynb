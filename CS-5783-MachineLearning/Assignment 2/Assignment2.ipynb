{
  "nbformat": 4,
  "nbformat_minor": 0,
  "metadata": {
    "colab": {
      "provenance": [],
      "collapsed_sections": [],
      "authorship_tag": "ABX9TyOqI9qY+Wg5zL058IlBHeYc",
      "include_colab_link": true
    },
    "kernelspec": {
      "name": "python3",
      "display_name": "Python 3"
    },
    "language_info": {
      "name": "python"
    }
  },
  "cells": [
    {
      "cell_type": "markdown",
      "metadata": {
        "id": "view-in-github",
        "colab_type": "text"
      },
      "source": [
        "<a href=\"https://colab.research.google.com/github/Mobashera-Alam/CS-5783-MachineLearning/blob/main/CS-5783-MachineLearning/Assignment%202/Assignment2.ipynb\" target=\"_parent\"><img src=\"https://colab.research.google.com/assets/colab-badge.svg\" alt=\"Open In Colab\"/></a>"
      ]
    },
    {
      "cell_type": "code",
      "source": [
        "import numpy as np\n",
        "import matplotlib.pyplot as plt\n",
        "import pandas as pd"
      ],
      "metadata": {
        "id": "CHab55WqMOzo"
      },
      "execution_count": null,
      "outputs": []
    },
    {
      "cell_type": "code",
      "source": [
        "from google.colab import drive\n",
        "drive.mount('/content/drive')"
      ],
      "metadata": {
        "colab": {
          "base_uri": "https://localhost:8080/"
        },
        "id": "bTNwvqDaMQNn",
        "outputId": "dd4417bd-56d8-432e-d114-d83759a7b5b0"
      },
      "execution_count": null,
      "outputs": [
        {
          "output_type": "stream",
          "name": "stdout",
          "text": [
            "Mounted at /content/drive\n"
          ]
        }
      ]
    },
    {
      "cell_type": "code",
      "source": [
        "filename_x_train = \"/content/drive/My Drive/ML/Assignment 2/X_train.csv\"\n",
        "filename_y_train = \"/content/drive/My Drive/ML/Assignment 2/Y_train.csv\"\n",
        "filename_x_test = \"/content/drive/My Drive/ML/Assignment 2/X_test.csv\"\n",
        "filename_y_test = \"/content/drive/My Drive/ML/Assignment 2/Y_test.csv\"\n",
        "X_train = pd.DataFrame()\n",
        "Y_train = pd.DataFrame()\n",
        "X_train = pd.read_csv(filename_x_train, delim_whitespace = True)\n",
        "Y_train = pd.read_csv(filename_y_train, delim_whitespace = True)\n",
        "X_test = pd.read_csv(filename_x_test, delim_whitespace = True)\n",
        "Y_test = pd.read_csv(filename_y_test, delim_whitespace = True)\n",
        "X = np.array(X_train)\n",
        "Y = np.array(Y_train)\n",
        "X_test = np.array(X_test)\n",
        "Y_test = np.array(Y_test)\n"
      ],
      "metadata": {
        "id": "Nz2eUTOSMnRG"
      },
      "execution_count": 177,
      "outputs": []
    },
    {
      "cell_type": "markdown",
      "source": [
        "1. This is a linear regression problem so we choose identity function as activation funciton in output layer."
      ],
      "metadata": {
        "id": "jdul7M3uXzMe"
      }
    },
    {
      "cell_type": "markdown",
      "source": [
        "2. Since output layers has one column (label) so we will need one neuron at output layer to match the dimension. "
      ],
      "metadata": {
        "id": "vSF0HVsPYQZ2"
      }
    },
    {
      "cell_type": "code",
      "source": [
        "#Activation function\n",
        "def sigmoid(Z):\n",
        "    return 1/(1+np.exp(-Z))\n",
        "\n",
        "def relu(Z):\n",
        "    return np.max(0,Z)"
      ],
      "metadata": {
        "id": "KQAK-qF6TNNW"
      },
      "execution_count": null,
      "outputs": []
    },
    {
      "cell_type": "code",
      "source": [
        "#Shape of layer\n",
        "def layer_sizes(X, Y):\n",
        "    n_x = X.shape[0] # size of input layer\n",
        "    n_y = Y.shape[0] # size of output layer\n",
        "    return (n_x, n_y)"
      ],
      "metadata": {
        "id": "rJdN7MsjTnti"
      },
      "execution_count": null,
      "outputs": []
    },
    {
      "cell_type": "code",
      "source": [
        "def init_params(n_x, n_h, n_y):\n",
        "    W1 = np.random.randn(n_h,n_x) * 0.1\n",
        "    b1 = np.zeros((n_h,1))\n",
        "    W2 = np.random.randn(n_y,n_h) * 0.1\n",
        "    b2 = np.zeros((n_y,1))\n",
        "    \n",
        "    parameters = {\"W1\": W1,\n",
        "                  \"b1\": b1,\n",
        "                  \"W2\": W2,\n",
        "                  \"b2\": b2}\n",
        "    return parameters"
      ],
      "metadata": {
        "id": "s1VThVuqUJ14"
      },
      "execution_count": null,
      "outputs": []
    },
    {
      "cell_type": "code",
      "source": [
        "def forward_propagation(X, parameters, activation):\n",
        "    # Retrieve each parameter from the dictionary \"parameters\"\n",
        "    W1 = parameters[\"W1\"]\n",
        "    b1 = parameters[\"b1\"]\n",
        "    W2 = parameters[\"W2\"]\n",
        "    b2 = parameters[\"b2\"]\n",
        "    \n",
        "    # Implement Forward Propagation to calculate A2 (probabilities)\n",
        "    Z1 = np.dot(W1,X) + b1\n",
        "\n",
        "    if activation == \"sigmoid\":\n",
        "        A1 = sigmoid(Z1)\n",
        "    elif activation == \"relu\":\n",
        "        A1 = relu(Z1)\n",
        "    elif activation == \"tanh\":\n",
        "        A1 = np.tanh(Z1)\n",
        "    else:\n",
        "        A1 = sigmoid(Z1)\n",
        "\n",
        "    Z2 = np.dot(W2,A1) + b2\n",
        "    A2 = Z2\n",
        "    \n",
        "    cache = {\"Z1\": Z1,\n",
        "             \"A1\": A1,\n",
        "             \"Z2\": Z2,\n",
        "             \"A2\": A2}\n",
        "    \n",
        "    return A2, cache"
      ],
      "metadata": {
        "id": "3aSTpbCzUTLM"
      },
      "execution_count": null,
      "outputs": []
    },
    {
      "cell_type": "code",
      "source": [
        "def compute_cost(A2, Y, parameters):\n",
        "    \n",
        "    m = Y.shape[1] # number of example\n",
        "\n",
        "    #MSE\n",
        "    cost = (1/m) * (Y - A2) @ (Y - A2).T\n",
        "    cost = float(np.squeeze(cost))  # makes sure cost is the dimension we expect. E.g., turns [[17]] into 17\n",
        "    return cost"
      ],
      "metadata": {
        "id": "EmewwGUzUYod"
      },
      "execution_count": null,
      "outputs": []
    },
    {
      "cell_type": "code",
      "source": [
        "def backward_propagation(parameters, cache, X, Y, activation):\n",
        "\n",
        "    m = X.shape[1]\n",
        "    \n",
        "    # First, retrieve W1 and W2 from the dictionary \"parameters\".\n",
        "    W1 = parameters[\"W1\"]\n",
        "    b1 = parameters[\"b1\"]\n",
        "    W2 = parameters[\"W2\"]\n",
        "    b2 = parameters[\"b2\"]\n",
        "        \n",
        "    # Retrieve also A1 and A2 from dictionary \"cache\".\n",
        "    A1 = cache[\"A1\"]\n",
        "    A2 = cache[\"A2\"]\n",
        "    Z1 = cache[\"Z1\"]\n",
        "    Z2 = cache[\"Z2\"]\n",
        "    \n",
        "    # Backward propagation: calculate dW1, db1, dW2, db2. \n",
        "    dZ2 = A2 - Y\n",
        "    dW2 = (1/m) * np.dot(dZ2,A1.T)\n",
        "    db2 = (1/m) *(np.sum(dZ2,axis=1,keepdims=True))\n",
        "\n",
        "    if activation == \"sigmoid\":\n",
        "        dZ1 = np.dot(W2.T,dZ2) * sigmoid(Z1) * (1 - sigmoid(Z1))\n",
        "    elif activation == \"relu\":\n",
        "        dZ1 = np.array(np.dot(W2.T,dZ2), copy=True)\n",
        "        dZ1[Z1 <= 0] = 0.0\n",
        "    elif activation == \"tanh\":\n",
        "        dZ1 = np.dot(W2.T,dZ2) * (1 - np.tanh(Z1)*np.tanh(Z1))\n",
        "    else:\n",
        "        dZ1 = np.dot(W2.T,dZ2) * sigmoid(Z1) * (1 - sigmoid(Z1))\n",
        "\n",
        "    dW1 = (1/m) *(np.dot(dZ1,X.T))\n",
        "    db1 = (1/m) *(np.sum(dZ1, axis=1, keepdims=True))\n",
        "    \n",
        "    grads = {\"dW1\": dW1,\n",
        "             \"db1\": db1,\n",
        "             \"dW2\": dW2,\n",
        "             \"db2\": db2}\n",
        "    \n",
        "    return grads"
      ],
      "metadata": {
        "id": "6Rswd1GeUnzU"
      },
      "execution_count": 220,
      "outputs": []
    },
    {
      "cell_type": "code",
      "source": [
        "def update_parameters(parameters, grads, learning_rate):\n",
        "\n",
        "    # Retrieve each parameter from the dictionary \"parameters\"\n",
        "    W1 = parameters[\"W1\"]\n",
        "    b1 = parameters[\"b1\"]\n",
        "    W2 = parameters[\"W2\"]\n",
        "    b2 = parameters[\"b2\"]\n",
        "    \n",
        "    # Retrieve each gradient from the dictionary \"grads\"\n",
        "    dW1 = grads[\"dW1\"]\n",
        "    db1 = grads[\"db1\"]\n",
        "    dW2 = grads[\"dW2\"]\n",
        "    db2 = grads[\"db2\"]\n",
        "    \n",
        "    # Update rule for each parameter\n",
        "    W1 = W1 - learning_rate * dW1\n",
        "    b1 = b1 - learning_rate * db1\n",
        "    W2 = W2 - learning_rate * dW2\n",
        "    b2 = b2 - learning_rate * db2\n",
        "    \n",
        "    parameters = {\"W1\": W1,\n",
        "                  \"b1\": b1,\n",
        "                  \"W2\": W2,\n",
        "                  \"b2\": b2}\n",
        "    \n",
        "    return parameters\n"
      ],
      "metadata": {
        "id": "kS1tP1DpUsva"
      },
      "execution_count": null,
      "outputs": []
    },
    {
      "cell_type": "code",
      "source": [
        "def MLP_model(X, Y, n_h, learning_rate, activation, num_iterations = 1000, print_cost=False):\n",
        "    n_x = layer_sizes(X, Y)[0]\n",
        "    n_y = layer_sizes(X, Y)[1]\n",
        "    \n",
        "    # Initialize parameters\n",
        "    parameters = init_params(n_x, n_h, n_y)\n",
        "    \n",
        "    cost_tot = []\n",
        "    # Loop (gradient descent)\n",
        "    for i in range(0, num_iterations):\n",
        "        # Forward propagation. Inputs: \"X, parameters\". Outputs: \"A2, cache\"\n",
        "        A2, cache = forward_propagation(X, parameters, activation)\n",
        "        # Cost function. Inputs: \"A2, Y, parameters\". Outputs: \"cost\"\n",
        "        cost = compute_cost(A2, Y, parameters)\n",
        "        cost_tot.append(cost)\n",
        "        # Backpropagation. Inputs: \"parameters, cache, X, Y\". Outputs: \"grads\"\n",
        "        grads = backward_propagation(parameters, cache, X, Y, activation)\n",
        "        # Update rule for each parameter\n",
        "        parameters = update_parameters(parameters, grads, learning_rate)\n",
        "        # If print_cost=True, Print the cost every 1000 iterations\n",
        "        if print_cost and i % 500 == 0:\n",
        "            print (\"Cost after iteration %i: %f\" %(i, cost))\n",
        "    # Returns parameters learnt by the model. They can then be used to predict output\n",
        "    return parameters, cost_tot\n"
      ],
      "metadata": {
        "id": "UvYTuA0TUwxB"
      },
      "execution_count": null,
      "outputs": []
    },
    {
      "cell_type": "code",
      "source": [
        "def predict(parameters, X, activation):\n",
        "    A2, cache = forward_propagation(X, parameters, activation)\n",
        "    return A2"
      ],
      "metadata": {
        "id": "38ZyiLUKU39i"
      },
      "execution_count": 157,
      "outputs": []
    },
    {
      "cell_type": "code",
      "source": [
        "def plot_cost(cost_tot, num_epochs):\n",
        "\tplt.xlabel('Number of Iterations')\n",
        "\tplt.ylabel('Loss')\n",
        "\tplt.plot(np.arange(num_epochs), cost_tot)\n",
        "\tplt.show()"
      ],
      "metadata": {
        "id": "h5KMcHJ0U-pR"
      },
      "execution_count": null,
      "outputs": []
    },
    {
      "cell_type": "code",
      "execution_count": null,
      "metadata": {
        "colab": {
          "base_uri": "https://localhost:8080/"
        },
        "id": "ocJHzDzOMLHM",
        "outputId": "c41e6376-c4b2-470c-c54a-1315bc870917"
      },
      "outputs": [
        {
          "output_type": "stream",
          "name": "stdout",
          "text": [
            "Final loss 0.00997095114852295\n",
            "W1 = [[-0.03755158  1.22471238]\n",
            " [-0.04102901 -1.11939313]]\n",
            "b1 = [[-0.11105874]\n",
            " [ 0.05839932]]\n",
            "W2 = [[ 2.24508075 -1.81928872]]\n",
            "b2 = [[-0.13846523]]\n",
            "0.09982126929708558\n"
          ]
        }
      ],
      "source": [
        "def main():\n",
        "    xtrain = np.array(X_train)\n",
        "    ytrain = np.array(Y_train)\n",
        "    xtest = np.array(X_test)\n",
        "    ytest = np.array(Y_test)\n",
        "    # take mean and standard deviation of features of the training set for standardization\n",
        "    meanX = np.mean(xtrain, axis=0)\n",
        "    stdX = np.std(xtrain, axis=0)\n",
        "    # standardize features of the trainig set\n",
        "    xtrainSt = (xtrain - meanX) / stdX\n",
        "    xtrainSt = xtrainSt.T\n",
        "    meanY = np.mean(ytrain, axis=0)\n",
        "    stdY = np.std(ytrain, axis=0)\n",
        "    ytrainSt = (ytrain - meanY) / stdY\n",
        "    ytrainSt = ytrainSt.T\n",
        "    xtestSt = (xtrain - meanX) / stdX\n",
        "    xtestSt = xtestSt.T\n",
        "    ytestSt = (ytrain - meanY) / stdY\n",
        "    ytestSt = ytestSt.T\n",
        "    epochs=1000\n",
        "    lr = 0.1\n",
        "    activation = \"sigmoid\"\n",
        "\n",
        "    parameters, cost_tot = MLP_model(xtrainSt, ytrainSt, 2, lr, activation,epochs, print_cost=True)\n",
        "    print(\"W1 = \" + str(parameters[\"W1\"]))\n",
        "    print(\"b1 = \" + str(parameters[\"b1\"]))\n",
        "    print(\"W2 = \" + str(parameters[\"W2\"]))\n",
        "    print(\"b2 = \" + str(parameters[\"b2\"]))\n",
        "\n",
        "    \n",
        "\n",
        "    ytestHatSt = predict(parameters, xtestSt, activation)\n",
        "    #Back to original data\n",
        "    error = np.sqrt(((ytestHatSt - ytestSt) ** 2).mean())\n",
        "    print(error)\n",
        "    \n",
        "\n",
        "   \n",
        "\n",
        "if __name__ == \"__main__\":\n",
        "    main()"
      ]
    },
    {
      "cell_type": "markdown",
      "source": [
        "3. MSE loss =  0.1055994247979705(Will vary for each run) for learning rate = 0.1 on training set. And MSE =0.09982126929708558 on test set. "
      ],
      "metadata": {
        "id": "kPnJZ3GJfso0"
      }
    },
    {
      "cell_type": "code",
      "source": [
        "#for various learning rate\n",
        "def main():\n",
        "    xtrain = np.array(X_train)\n",
        "    ytrain = np.array(Y_train)\n",
        "    xtest = np.array(X_test)\n",
        "    ytest = np.array(Y_test)\n",
        "    # take mean and standard deviation of features of the training set for standardization\n",
        "    meanX = np.mean(xtrain, axis=0)\n",
        "    stdX = np.std(xtrain, axis=0)\n",
        "    xtrainSt = (xtrain - meanX) / stdX\n",
        "    xtrainSt = xtrainSt.T\n",
        "    meanY = np.mean(ytrain, axis=0)\n",
        "    stdY = np.std(ytrain, axis=0)\n",
        "    ytrainSt = (ytrain - meanY) / stdY\n",
        "    ytrainSt = ytrainSt.T\n",
        "    xtestSt = (xtest - meanX) / stdX\n",
        "    ytestSt = (ytest - meanY) / stdY\n",
        "\n",
        "    epochs=1001\n",
        "    lr = [0.001,0.01,0.1,1]\n",
        "    error = [0,0,0,0]\n",
        "    best = [1,1,1,1]\n",
        "\n",
        "    activation = \"sigmoid\"\n",
        "\n",
        "    parameters, cost_tot = MLP_model(xtrainSt, ytrainSt, 2, lr[0], activation,epochs, print_cost=True)\n",
        "    ytrainHat = predict(parameters, xtrainSt, activation)\n",
        "    error[0] = np.sqrt(((ytrainHat - ytrainSt) ** 2).mean())\n",
        "    parameters, cost_tot = MLP_model(xtrainSt, ytrainSt, 2, lr[1], activation,epochs, print_cost=True)\n",
        "    ytrainHat = predict(parameters, xtrainSt, activation)\n",
        "    error[1]= np.sqrt(((ytrainHat - ytrainSt) ** 2).mean())\n",
        "    parameters, cost_tot = MLP_model(xtrainSt, ytrainSt, 2, lr[2], activation,epochs, print_cost=True)\n",
        "    ytrainHat = predict(parameters, xtrainSt, activation)\n",
        "    error[2] = np.sqrt(((ytrainHat - ytrainSt) ** 2).mean())\n",
        "    parameters, cost_tot = MLP_model(xtrainSt, ytrainSt, 2, lr[3], activation,epochs, print_cost=True)\n",
        "    ytrainHat = predict(parameters, xtrainSt, activation)\n",
        "    error[3] = np.sqrt(((ytrainHat - ytrainSt) ** 2).mean())\n",
        "    tot = np.array(best)-np.array(error)\n",
        "    plt.plot(lr,tot)\n",
        "    plt.xlabel('Learning rate')\n",
        "    plt.ylabel('MSE')\n",
        "    plt.title('MSE vs Various learning rate, Activation(Hidden layer)-Sigmoid')\n",
        "\n",
        "if __name__ == \"__main__\":\n",
        "    main()"
      ],
      "metadata": {
        "colab": {
          "base_uri": "https://localhost:8080/",
          "height": 503
        },
        "id": "BA28jwoUhHqn",
        "outputId": "deeb132b-1ab2-484a-b74d-3f4ff40f9775"
      },
      "execution_count": null,
      "outputs": [
        {
          "output_type": "stream",
          "name": "stdout",
          "text": [
            "Cost after iteration 0: 1.001222\n",
            "Cost after iteration 500: 0.993354\n",
            "Cost after iteration 1000: 0.989282\n",
            "Cost after iteration 0: 1.014891\n",
            "Cost after iteration 500: 0.998741\n",
            "Cost after iteration 1000: 0.974850\n",
            "Cost after iteration 0: 0.995473\n",
            "Cost after iteration 500: 0.019849\n",
            "Cost after iteration 1000: 0.013406\n",
            "Cost after iteration 0: 0.998340\n",
            "Cost after iteration 500: 0.004537\n",
            "Cost after iteration 1000: 0.002177\n"
          ]
        },
        {
          "output_type": "display_data",
          "data": {
            "text/plain": [
              "<Figure size 432x288 with 1 Axes>"
            ],
            "image/png": "[encoded data removed]"
          },
          "metadata": {
            "needs_background": "light"
          }
        }
      ]
    },
    {
      "cell_type": "markdown",
      "source": [
        "5. From the tested learning rates, we can tell that increasing learning rate improves the model. But for the same number of iteration but learning rate 0.001 to 0.01 the accuracy increases significantly. "
      ],
      "metadata": {
        "id": "aQq-46FDDMVN"
      }
    },
    {
      "cell_type": "code",
      "source": [
        "#effect of number of hidden layer\n",
        "def main():\n",
        "    xtrain = np.array(X_train)\n",
        "    ytrain = np.array(Y_train)\n",
        "    xtest = np.array(X_test)\n",
        "    ytest = np.array(Y_test)\n",
        "    # take mean and standard deviation of features of the training set for standardization\n",
        "    meanX = np.mean(xtrain, axis=0)\n",
        "    stdX = np.std(xtrain, axis=0)\n",
        "    xtrainSt = (xtrain - meanX) / stdX\n",
        "    xtrainSt = xtrainSt.T\n",
        "    meanY = np.mean(ytrain, axis=0)\n",
        "    stdY = np.std(ytrain, axis=0)\n",
        "    ytrainSt = (ytrain - meanY) / stdY\n",
        "    ytrainSt = ytrainSt.T\n",
        "    xtestSt = (xtest - meanX) / stdX\n",
        "    ytestSt = (ytest - meanY) / stdY\n",
        "\n",
        "    epochs=1000\n",
        "    lr =0.1\n",
        "    n_n = [1,3,5,7,9,10]\n",
        "    error = [0,0,0,0,0,0]\n",
        "\n",
        "    activation = \"sigmoid\"\n",
        "    parameters, cost_tot = MLP_model(xtrainSt, ytrainSt, n_n[0], lr, activation,epochs, print_cost=True)\n",
        "    ytrainHat = predict(parameters, xtrainSt, activation)\n",
        "    error[0] = np.sqrt(((ytrainHat - ytrainSt) ** 2).mean())\n",
        "    parameters, cost_tot = MLP_model(xtrainSt, ytrainSt, n_n[1], lr, activation,epochs, print_cost=True)\n",
        "    ytrainHat = predict(parameters, xtrainSt, activation)\n",
        "    error[1]= np.sqrt(((ytrainHat - ytrainSt) ** 2).mean())\n",
        "    parameters, cost_tot = MLP_model(xtrainSt, ytrainSt, n_n[2], lr, activation,epochs, print_cost=True)\n",
        "    ytrainHat = predict(parameters, xtrainSt, activation)\n",
        "    error[2] = np.sqrt(((ytrainHat - ytrainSt) ** 2).mean())\n",
        "    parameters, cost_tot = MLP_model(xtrainSt, ytrainSt, n_n[3], lr, activation,epochs, print_cost=True)\n",
        "    ytrainHat = predict(parameters, xtrainSt, activation)\n",
        "    error[3] = np.sqrt(((ytrainHat - ytrainSt) ** 2).mean())\n",
        "    parameters, cost_tot = MLP_model(xtrainSt, ytrainSt, n_n[4], lr, activation,epochs, print_cost=True)\n",
        "    ytrainHat = predict(parameters, xtrainSt, activation)\n",
        "    error[4] = np.sqrt(((ytrainHat - ytrainSt) ** 2).mean())\n",
        "    parameters, cost_tot = MLP_model(xtrainSt, ytrainSt, n_n[5], lr, activation,epochs, print_cost=True)\n",
        "    ytrainHat = predict(parameters, xtrainSt, activation)\n",
        "    error[5] = np.sqrt(((ytrainHat - ytrainSt) ** 2).mean())\n",
        "    plt.plot(n_n,error)\n",
        "    plt.xlabel('Learning rate')\n",
        "    plt.ylabel('MSE')\n",
        "    plt.title('MSE vs Various number of neuron in hidden layer, Activation(Hidden layer)-Sigmoid')\n",
        "    #accuracy is the difference be\n",
        "if __name__ == \"__main__\":\n",
        "    main()"
      ],
      "metadata": {
        "colab": {
          "base_uri": "https://localhost:8080/",
          "height": 399
        },
        "id": "kbJZWZvYDsd-",
        "outputId": "87007e1b-a915-48a6-c68f-6ea3135bfd1b"
      },
      "execution_count": 160,
      "outputs": [
        {
          "output_type": "stream",
          "name": "stdout",
          "text": [
            "Final loss 0.023258296255650693\n",
            "Final loss 0.009083708228524306\n",
            "Final loss 0.006392451301334587\n",
            "Final loss 0.003741342842423457\n",
            "Final loss 0.0020838977757389053\n",
            "Final loss 0.003301843646143693\n"
          ]
        },
        {
          "output_type": "display_data",
          "data": {
            "text/plain": [
              "<Figure size 432x288 with 1 Axes>"
            ],
            "image/png": "[encoded data removed]"
          },
          "metadata": {
            "needs_background": "light"
          }
        }
      ]
    },
    {
      "cell_type": "markdown",
      "source": [
        "6.(a) If we change the number of neurons the weight matrix shape will change for example for this given system we have two features so weight matrix in first layer(hidden) would be [no of neurons,input feature] because it gets transposed when performing matrix multiplicaiton. So there will be no change in update rule only the shape of weight matrix will change. Update rule might change when the number of hidden layers changes.\n",
        "\n",
        "(b)Based on final loss and plot for various neurons we can see that upto 9 neuron in the hidden layer works well but 10 neuron causes overfitting issue.(We validated based on test data as well)  "
      ],
      "metadata": {
        "id": "ZDmIUDoiG0-r"
      }
    },
    {
      "cell_type": "code",
      "source": [
        "def main():\n",
        "    xtrain = np.array(X_train)\n",
        "    ytrain = np.array(Y_train)\n",
        "    xtest = np.array(X_test)\n",
        "    ytest = np.array(Y_test)\n",
        "    # take mean and standard deviation of features of the training set for standardization\n",
        "    meanX = np.mean(xtrain, axis=0)\n",
        "    stdX = np.std(xtrain, axis=0)\n",
        "    # standardize features of the trainig set\n",
        "    xtrainSt = (xtrain - meanX) / stdX\n",
        "    xtrainSt = xtrainSt.T\n",
        "    meanY = np.mean(ytrain, axis=0)\n",
        "    stdY = np.std(ytrain, axis=0)\n",
        "    ytrainSt = (ytrain - meanY) / stdY\n",
        "    ytrainSt = ytrainSt.T\n",
        "\n",
        "    xtestSt = (xtest - meanX) / stdX\n",
        "    ytestSt = (ytest - meanY) / stdY\n",
        "\n",
        "    epochs=2000\n",
        "    lr = 0.1\n",
        "    activation = \"sigmoid\"\n",
        "\n",
        "    parameters, cost_tot = MLP_model(xtrainSt, ytrainSt, 1, lr, activation,epochs, print_cost=True)\n",
        "    print(\"W1 = \" + str(parameters[\"W1\"]))\n",
        "    print(\"b1 = \" + str(parameters[\"b1\"]))\n",
        "    print(\"W2 = \" + str(parameters[\"W2\"]))\n",
        "    print(\"b2 = \" + str(parameters[\"b2\"]))\n",
        "\n",
        "    plot_cost(cost_tot, epochs)\n",
        "\n",
        "    ytrainHat = predict(parameters, xtrainSt, activation)\n",
        " \n",
        "\n",
        "    "
      ],
      "metadata": {
        "id": "3ekVPsWbNvaf"
      },
      "execution_count": null,
      "outputs": []
    },
    {
      "cell_type": "code",
      "source": [
        "def main():\n",
        "    xtrain = np.array(X_train)\n",
        "    ytrain = np.array(Y_train)\n",
        "    xtest = np.array(X_test)\n",
        "    ytest = np.array(Y_test)\n",
        "    # take mean and standard deviation of features of the training set for standardization\n",
        "    meanX = np.mean(xtrain, axis=0)\n",
        "    stdX = np.std(xtrain, axis=0)\n",
        "    # standardize features of the trainig set\n",
        "    xtrainSt = (xtrain - meanX) / stdX\n",
        "    xtrainSt = xtrainSt.T\n",
        "    meanY = np.mean(ytrain, axis=0)\n",
        "    stdY = np.std(ytrain, axis=0)\n",
        "    ytrainSt = (ytrain - meanY) / stdY\n",
        "    ytrainSt = ytrainSt.T\n",
        "    xtestSt = (xtest - meanX) / stdX\n",
        "    xtestSt = xtestSt.T\n",
        "    ytestSt = (ytest - meanY) / stdY\n",
        "    ytestSt = ytestSt.T\n",
        "    epochs=1000\n",
        "    lr = 0.1\n",
        "    activation = \"sigmoid\"\n",
        "\n",
        "    parameters, cost_tot = MLP_model(xtrainSt, ytrainSt, 2, lr, activation,epochs, print_cost=True)\n",
        "    print(\"W1 = \" + str(parameters[\"W1\"]))\n",
        "    print(\"b1 = \" + str(parameters[\"b1\"]))\n",
        "    print(\"W2 = \" + str(parameters[\"W2\"]))\n",
        "    print(\"b2 = \" + str(parameters[\"b2\"]))\n",
        "    print(ytest.shape)\n",
        "    #Back to original\n",
        "    ytestHatSt = predict(parameters, xtestSt, activation)\n",
        "    ytestHat = ytestHatSt*stdY+meanY\n",
        "    plt.plot(X_test[:,0],ytestHat.T,'.',c='b',label='Prediction')\n",
        "    plt.plot(X_test[:,0], Y_test,'+',c = 'r', label='Given Data')\n",
        "    plt.legend()\n",
        "    plt.xlabel('feature-1')\n",
        "    plt.ylabel('Target')\n",
        "    plt.title('MLP regression on test data-Activation: Sigmoid+no of neuron=2')\n",
        "\n",
        "if __name__ == \"__main__\":\n",
        "    main()"
      ],
      "metadata": {
        "id": "OyEH75NkbK_L",
        "colab": {
          "base_uri": "https://localhost:8080/",
          "height": 434
        },
        "outputId": "06e83896-f5bc-4279-c51a-a7c2c004aa36"
      },
      "execution_count": 193,
      "outputs": [
        {
          "output_type": "stream",
          "name": "stdout",
          "text": [
            "Final loss 0.011058853932308403\n",
            "W1 = [[-0.05940284  0.93593014]\n",
            " [-0.03118054 -1.32895919]]\n",
            "b1 = [[-0.00092061]\n",
            " [ 0.11329721]]\n",
            "W2 = [[ 1.36230765 -2.67966372]]\n",
            "b2 = [[0.72072564]]\n",
            "(49, 1)\n"
          ]
        },
        {
          "output_type": "display_data",
          "data": {
            "text/plain": [
              "<Figure size 432x288 with 1 Axes>"
            ],
            "image/png": "[encoded data removed]"
          },
          "metadata": {
            "needs_background": "light"
          }
        }
      ]
    },
    {
      "cell_type": "code",
      "source": [
        "def main():\n",
        "    xtrain = np.array(X_train)\n",
        "    ytrain = np.array(Y_train)\n",
        "    xtest = np.array(X_test)\n",
        "    ytest = np.array(Y_test)\n",
        "    # take mean and standard deviation of features of the training set for standardization\n",
        "    meanX = np.mean(xtrain, axis=0)\n",
        "    stdX = np.std(xtrain, axis=0)\n",
        "    # standardize features of the trainig set\n",
        "    xtrainSt = (xtrain - meanX) / stdX\n",
        "    xtrainSt = xtrainSt.T\n",
        "    meanY = np.mean(ytrain, axis=0)\n",
        "    stdY = np.std(ytrain, axis=0)\n",
        "    ytrainSt = (ytrain - meanY) / stdY\n",
        "    ytrainSt = ytrainSt.T\n",
        "    xtestSt = (xtest - meanX) / stdX\n",
        "    xtestSt = xtestSt.T\n",
        "    ytestSt = (ytest - meanY) / stdY\n",
        "    ytestSt = ytestSt.T\n",
        "    epochs=1000\n",
        "    lr = 0.1\n",
        "    activation = \"sigmoid\"\n",
        "\n",
        "    parameters, cost_tot = MLP_model(xtrainSt, ytrainSt, 2, lr, activation,epochs, print_cost=True)\n",
        "    print(\"W1 = \" + str(parameters[\"W1\"]))\n",
        "    print(\"b1 = \" + str(parameters[\"b1\"]))\n",
        "    print(\"W2 = \" + str(parameters[\"W2\"]))\n",
        "    print(\"b2 = \" + str(parameters[\"b2\"]))\n",
        "    print(ytest.shape)\n",
        "    #Back to original\n",
        "    ytestHatSt = predict(parameters, xtestSt, activation)\n",
        "    ytestHat = ytestHatSt*stdY+meanY\n",
        "    plt.plot(X_test[:,1],ytestHat.T,'.',c='b',label='Prediction')\n",
        "    plt.plot(X_test[:,1], Y_test,'+',c = 'r', label='Given Data')\n",
        "    plt.legend()\n",
        "    plt.xlabel('feature-2')\n",
        "    plt.ylabel('Target')\n",
        "    plt.title('MLP regression on test data-Activation: Sigmoid+ no of neuron=2')\n",
        "\n",
        "if __name__ == \"__main__\":\n",
        "    main()"
      ],
      "metadata": {
        "colab": {
          "base_uri": "https://localhost:8080/",
          "height": 434
        },
        "id": "bRAZtVA0egKf",
        "outputId": "1a67fdd3-90e3-4656-b0df-27f03c982a76"
      },
      "execution_count": 194,
      "outputs": [
        {
          "output_type": "stream",
          "name": "stdout",
          "text": [
            "Final loss 0.013931298544539991\n",
            "W1 = [[-0.03268014  1.2172965 ]\n",
            " [ 0.01974087  1.37702944]]\n",
            "b1 = [[-0.15648864]\n",
            " [-0.20545097]]\n",
            "W2 = [[1.56394521 2.20863884]]\n",
            "b2 = [[-1.74871691]]\n",
            "(49, 1)\n"
          ]
        },
        {
          "output_type": "display_data",
          "data": {
            "text/plain": [
              "<Figure size 432x288 with 1 Axes>"
            ],
            "image/png": "[encoded data removed]"
          },
          "metadata": {
            "needs_background": "light"
          }
        }
      ]
    },
    {
      "cell_type": "code",
      "source": [
        "def main():\n",
        "    xtrain = np.array(X_train)\n",
        "    ytrain = np.array(Y_train)\n",
        "    xtest = np.array(X_test)\n",
        "    ytest = np.array(Y_test)\n",
        "    # take mean and standard deviation of features of the training set for standardization\n",
        "    meanX = np.mean(xtrain, axis=0)\n",
        "    stdX = np.std(xtrain, axis=0)\n",
        "    # standardize features of the trainig set\n",
        "    xtrainSt = (xtrain - meanX) / stdX\n",
        "    xtrainSt = xtrainSt.T\n",
        "    meanY = np.mean(ytrain, axis=0)\n",
        "    stdY = np.std(ytrain, axis=0)\n",
        "    ytrainSt = (ytrain - meanY) / stdY\n",
        "    ytrainSt = ytrainSt.T\n",
        "    xtestSt = (xtest - meanX) / stdX\n",
        "    xtestSt = xtestSt.T\n",
        "    ytestSt = (ytest - meanY) / stdY\n",
        "    ytestSt = ytestSt.T\n",
        "    epochs=1000\n",
        "    lr = 0.1\n",
        "    activation = \"sigmoid\"\n",
        "\n",
        "    parameters, cost_tot = MLP_model(xtrainSt, ytrainSt, 9, lr, activation,epochs, print_cost=True)\n",
        "    print(\"W1 = \" + str(parameters[\"W1\"]))\n",
        "    print(\"b1 = \" + str(parameters[\"b1\"]))\n",
        "    print(\"W2 = \" + str(parameters[\"W2\"]))\n",
        "    print(\"b2 = \" + str(parameters[\"b2\"]))\n",
        "    print(ytest.shape)\n",
        "    #Back to original\n",
        "    ytestHatSt = predict(parameters, xtestSt, activation)\n",
        "    ytestHat = ytestHatSt*stdY+meanY\n",
        "    plt.plot(X_test[:,0],ytestHat.T,'.',c='b',label='Prediction')\n",
        "    plt.plot(X_test[:,0], Y_test,'+',c = 'r', label='Given Data')\n",
        "    plt.legend()\n",
        "    plt.xlabel('feature-1')\n",
        "    plt.ylabel('Target')\n",
        "    plt.title('MLP regression on test data-Activation: Sigmoid+no of neuron=9')\n",
        "\n",
        "if __name__ == \"__main__\":\n",
        "    main()"
      ],
      "metadata": {
        "colab": {
          "base_uri": "https://localhost:8080/",
          "height": 694
        },
        "id": "lQtVEZbLqRVp",
        "outputId": "79aea722-773d-4f2e-b77c-18673f588016"
      },
      "execution_count": 199,
      "outputs": [
        {
          "output_type": "stream",
          "name": "stdout",
          "text": [
            "Final loss 0.0028005402786450413\n",
            "W1 = [[ 0.02144111  0.65538848]\n",
            " [-0.05819386  0.4236508 ]\n",
            " [-0.02066893  0.44207764]\n",
            " [ 0.06714452  0.23074232]\n",
            " [-0.02158241  0.7615038 ]\n",
            " [ 0.0105588  -0.9899019 ]\n",
            " [-0.08161437 -0.91367453]\n",
            " [-0.04331652 -0.40326163]\n",
            " [-0.13053132  0.54384179]]\n",
            "b1 = [[-0.01816883]\n",
            " [-0.00882465]\n",
            " [-0.0084245 ]\n",
            " [-0.00306657]\n",
            " [-0.02751791]\n",
            " [ 0.0558628 ]\n",
            " [ 0.03860735]\n",
            " [ 0.00666821]\n",
            " [-0.01585109]]\n",
            "W2 = [[ 0.69817251  0.41378572  0.4434898   0.2061164   0.85684906 -1.33411282\n",
            "  -1.19519718 -0.45154945  0.54604552]]\n",
            "b2 = [[-0.05017857]]\n",
            "(49, 1)\n"
          ]
        },
        {
          "output_type": "display_data",
          "data": {
            "text/plain": [
              "<Figure size 432x288 with 1 Axes>"
            ],
            "image/png": "[encoded data removed]"
          },
          "metadata": {
            "needs_background": "light"
          }
        }
      ]
    },
    {
      "cell_type": "code",
      "source": [
        "def main():\n",
        "    xtrain = np.array(X_train)\n",
        "    ytrain = np.array(Y_train)\n",
        "    xtest = np.array(X_test)\n",
        "    ytest = np.array(Y_test)\n",
        "    # take mean and standard deviation of features of the training set for standardization\n",
        "    meanX = np.mean(xtrain, axis=0)\n",
        "    stdX = np.std(xtrain, axis=0)\n",
        "    # standardize features of the trainig set\n",
        "    xtrainSt = (xtrain - meanX) / stdX\n",
        "    xtrainSt = xtrainSt.T\n",
        "    meanY = np.mean(ytrain, axis=0)\n",
        "    stdY = np.std(ytrain, axis=0)\n",
        "    ytrainSt = (ytrain - meanY) / stdY\n",
        "    ytrainSt = ytrainSt.T\n",
        "    xtestSt = (xtest - meanX) / stdX\n",
        "    xtestSt = xtestSt.T\n",
        "    ytestSt = (ytest - meanY) / stdY\n",
        "    ytestSt = ytestSt.T\n",
        "    epochs=1000\n",
        "    lr = 0.1\n",
        "    activation = \"sigmoid\"\n",
        "\n",
        "    parameters, cost_tot = MLP_model(xtrainSt, ytrainSt, 9, lr, activation,epochs, print_cost=True)\n",
        "    print(\"W1 = \" + str(parameters[\"W1\"]))\n",
        "    print(\"b1 = \" + str(parameters[\"b1\"]))\n",
        "    print(\"W2 = \" + str(parameters[\"W2\"]))\n",
        "    print(\"b2 = \" + str(parameters[\"b2\"]))\n",
        "    print(ytest.shape)\n",
        "    #Back to original\n",
        "    ytestHatSt = predict(parameters, xtestSt, activation)\n",
        "    ytestHat = ytestHatSt*stdY+meanY\n",
        "    plt.plot(X_test[:,1],ytestHat.T,'.',c='b',label='Prediction')\n",
        "    plt.plot(X_test[:,1], Y_test,'+',c = 'r', label='Given Data')\n",
        "    plt.legend()\n",
        "    plt.xlabel('feature-2')\n",
        "    plt.ylabel('Target')\n",
        "    plt.title('MLP regression on test data-Activation: Sigmoid+ no of neuron=9')\n",
        "\n",
        "if __name__ == \"__main__\":\n",
        "    main()"
      ],
      "metadata": {
        "colab": {
          "base_uri": "https://localhost:8080/",
          "height": 694
        },
        "id": "9bQa_ijUp9-R",
        "outputId": "312fa724-9222-434c-ada4-6277f13dd29e"
      },
      "execution_count": 200,
      "outputs": [
        {
          "output_type": "stream",
          "name": "stdout",
          "text": [
            "Final loss 0.0033017642505600137\n",
            "W1 = [[ 0.07660861 -0.44431191]\n",
            " [-0.0998531  -0.95401476]\n",
            " [ 0.13991034  0.78185002]\n",
            " [ 0.01544728  0.37541568]\n",
            " [-0.05371718  0.23984864]\n",
            " [-0.1322545   0.8708329 ]\n",
            " [-0.02177441 -0.21512179]\n",
            " [ 0.09178764 -0.93173326]\n",
            " [ 0.19674734  0.15462232]]\n",
            "b1 = [[ 0.00161874]\n",
            " [ 0.03027626]\n",
            " [-0.00978027]\n",
            " [ 0.00079088]\n",
            " [ 0.00112796]\n",
            " [-0.03353846]\n",
            " [-0.00097811]\n",
            " [ 0.03864397]\n",
            " [ 0.00181466]]\n",
            "W2 = [[-0.43503325 -1.23662662  0.97015291  0.40144327  0.25840974  1.10595672\n",
            "  -0.19169211 -1.17190467  0.17380881]]\n",
            "b2 = [[0.0939052]]\n",
            "(49, 1)\n"
          ]
        },
        {
          "output_type": "display_data",
          "data": {
            "text/plain": [
              "<Figure size 432x288 with 1 Axes>"
            ],
            "image/png": "[encoded data removed]"
          },
          "metadata": {
            "needs_background": "light"
          }
        }
      ]
    },
    {
      "cell_type": "code",
      "source": [
        "def main():\n",
        "    xtrain = np.array(X_train)\n",
        "    ytrain = np.array(Y_train)\n",
        "    xtest = np.array(X_test)\n",
        "    ytest = np.array(Y_test)\n",
        "    # take mean and standard deviation of features of the training set for standardization\n",
        "    meanX = np.mean(xtrain, axis=0)\n",
        "    stdX = np.std(xtrain, axis=0)\n",
        "    # standardize features of the trainig set\n",
        "    xtrainSt = (xtrain - meanX) / stdX\n",
        "    xtrainSt = xtrainSt.T\n",
        "    meanY = np.mean(ytrain, axis=0)\n",
        "    stdY = np.std(ytrain, axis=0)\n",
        "    ytrainSt = (ytrain - meanY) / stdY\n",
        "    ytrainSt = ytrainSt.T\n",
        "    xtestSt = (xtest - meanX) / stdX\n",
        "    xtestSt = xtestSt.T\n",
        "    ytestSt = (ytest - meanY) / stdY\n",
        "    ytestSt = ytestSt.T\n",
        "    epochs=1000\n",
        "    lr = 0.1\n",
        "    activation = \"tanh\"\n",
        "    print(activation)\n",
        "\n",
        "    parameters, cost_tot = MLP_model(xtrainSt, ytrainSt, 10, lr, activation,epochs, print_cost=True)\n",
        "    print(\"W1 = \" + str(parameters[\"W1\"]))\n",
        "    print(\"b1 = \" + str(parameters[\"b1\"]))\n",
        "    print(\"W2 = \" + str(parameters[\"W2\"]))\n",
        "    print(\"b2 = \" + str(parameters[\"b2\"]))\n",
        "    print(ytest.shape)\n",
        "    #Back to original\n",
        "    ytestHatSt = predict(parameters, xtestSt, activation)\n",
        "    ytestHat = ytestHatSt*stdY+meanY\n",
        "    plt.plot(X_test[:,1],ytestHat.T,'.',c='b',label='Prediction')\n",
        "    plt.plot(X_test[:,1], Y_test,'+',c = 'r', label='Given Data')\n",
        "    plt.legend()\n",
        "    plt.xlabel('feature-1')\n",
        "    plt.ylabel('Target')\n",
        "    plt.title('MLP regression on test data-Activation: ReLu+no of neuron=10')\n",
        "\n",
        "if __name__ == \"__main__\":\n",
        "    main()"
      ],
      "metadata": {
        "colab": {
          "base_uri": "https://localhost:8080/",
          "height": 746
        },
        "id": "4X8aiC6oqdwl",
        "outputId": "4b8ca926-c455-4598-e28d-cfaa5bc535a9"
      },
      "execution_count": 222,
      "outputs": [
        {
          "output_type": "stream",
          "name": "stdout",
          "text": [
            "tanh\n",
            "Final loss 0.0010387095742308526\n",
            "W1 = [[ 0.10685101 -0.345255  ]\n",
            " [ 0.16169504  0.06134815]\n",
            " [ 0.06013149 -0.30037505]\n",
            " [-0.13539234 -0.30718542]\n",
            " [ 0.01835649 -0.34665751]\n",
            " [-0.04477262  0.28276494]\n",
            " [-0.00576871 -0.33805394]\n",
            " [-0.17190079 -0.20813594]\n",
            " [-0.0156609   0.27166954]\n",
            " [ 0.03464933 -0.19324557]]\n",
            "b1 = [[ 2.12655064e-02]\n",
            " [ 1.99892960e-03]\n",
            " [ 7.50424621e-03]\n",
            " [ 4.74846301e-05]\n",
            " [ 2.02429554e-02]\n",
            " [-4.28076952e-03]\n",
            " [ 1.50153989e-02]\n",
            " [-7.29217012e-03]\n",
            " [-1.93562103e-03]\n",
            " [-1.91834951e-03]]\n",
            "W2 = [[-0.48709539  0.06562702 -0.39684848 -0.4229006  -0.52571138  0.3797992\n",
            "  -0.49220808 -0.27209447  0.35865288 -0.20094525]]\n",
            "b2 = [[0.03020749]]\n",
            "(49, 1)\n"
          ]
        },
        {
          "output_type": "display_data",
          "data": {
            "text/plain": [
              "<Figure size 432x288 with 1 Axes>"
            ],
            "image/png": "[encoded data removed]"
          },
          "metadata": {
            "needs_background": "light"
          }
        }
      ]
    },
    {
      "cell_type": "code",
      "source": [
        "def main():\n",
        "    xtrain = np.array(X_train)\n",
        "    ytrain = np.array(Y_train)\n",
        "    xtest = np.array(X_test)\n",
        "    ytest = np.array(Y_test)\n",
        "    # take mean and standard deviation of features of the training set for standardization\n",
        "    meanX = np.mean(xtrain, axis=0)\n",
        "    stdX = np.std(xtrain, axis=0)\n",
        "    # standardize features of the trainig set\n",
        "    xtrainSt = (xtrain - meanX) / stdX\n",
        "    xtrainSt = xtrainSt.T\n",
        "    meanY = np.mean(ytrain, axis=0)\n",
        "    stdY = np.std(ytrain, axis=0)\n",
        "    ytrainSt = (ytrain - meanY) / stdY\n",
        "    ytrainSt = ytrainSt.T\n",
        "    xtestSt = (xtest - meanX) / stdX\n",
        "    xtestSt = xtestSt.T\n",
        "    ytestSt = (ytest - meanY) / stdY\n",
        "    ytestSt = ytestSt.T\n",
        "    epochs=1000\n",
        "    lr = 0.1\n",
        "    activation = \"sigmoid\"\n",
        "\n",
        "    parameters, cost_tot = MLP_model(xtrainSt, ytrainSt, 10, lr, activation,epochs, print_cost=True)\n",
        "    print(\"W1 = \" + str(parameters[\"W1\"]))\n",
        "    print(\"b1 = \" + str(parameters[\"b1\"]))\n",
        "    print(\"W2 = \" + str(parameters[\"W2\"]))\n",
        "    print(\"b2 = \" + str(parameters[\"b2\"]))\n",
        "    print(ytest.shape)\n",
        "    #Back to original\n",
        "    ytestHatSt = predict(parameters, xtestSt, activation)\n",
        "    ytestHat = ytestHatSt*stdY+meanY\n",
        "    plt.plot(X_test[:,1],ytestHat.T,'.',c='b',label='Prediction')\n",
        "    plt.plot(X_test[:,1], Y_test,'+',c = 'r', label='Given Data')\n",
        "    plt.legend()\n",
        "    plt.xlabel('feature-2')\n",
        "    plt.ylabel('Target')\n",
        "    plt.title('MLP regression on test data-Activation: Sigmoid+no of neuron=10')\n",
        "\n",
        "if __name__ == \"__main__\":\n",
        "    main()"
      ],
      "metadata": {
        "colab": {
          "base_uri": "https://localhost:8080/",
          "height": 729
        },
        "id": "8ngdD7Mjql9-",
        "outputId": "39e9f800-00b5-4e06-b4ad-99eacafd7c39"
      },
      "execution_count": 198,
      "outputs": [
        {
          "output_type": "stream",
          "name": "stdout",
          "text": [
            "Final loss 0.003024234796251835\n",
            "W1 = [[ 0.10892147 -0.90406783]\n",
            " [-0.06522937 -0.34103186]\n",
            " [-0.08221388 -0.21916481]\n",
            " [ 0.00762999  0.62728208]\n",
            " [-0.06347209  0.07114625]\n",
            " [-0.00900939  0.3457078 ]\n",
            " [ 0.15258817  0.59216131]\n",
            " [-0.05353983  0.94714096]\n",
            " [ 0.12134853 -0.23082587]\n",
            " [-0.06530731 -0.90593241]]\n",
            "b1 = [[ 3.87809927e-02]\n",
            " [-5.83844771e-04]\n",
            " [-8.06264586e-04]\n",
            " [-8.31316888e-03]\n",
            " [ 1.59118257e-04]\n",
            " [-5.02212516e-04]\n",
            " [-2.12193249e-03]\n",
            " [-4.33179276e-02]\n",
            " [ 7.64796313e-06]\n",
            " [ 2.95382914e-02]]\n",
            "W2 = [[-1.14112639 -0.33062967 -0.21400416  0.71113695  0.08482569  0.36786448\n",
            "   0.6660535   1.25208451 -0.22722283 -1.14692726]]\n",
            "b2 = [[0.022438]]\n",
            "(49, 1)\n"
          ]
        },
        {
          "output_type": "display_data",
          "data": {
            "text/plain": [
              "<Figure size 432x288 with 1 Axes>"
            ],
            "image/png": "[encoded data removed]"
          },
          "metadata": {
            "needs_background": "light"
          }
        }
      ]
    },
    {
      "cell_type": "markdown",
      "source": [
        "7.(a)Since update rule need to multiply the derivativ of the activation functions, so we need to change the update rule based on activation function as well. \n",
        "\n",
        "(b)The change occurs in the backpropagation during chain rule and in forward propagation when we need to use a = g(z).So where we need to use the activation function and its derivative we need to change to achieve this experiement.\n",
        "\n",
        "(c)Based on the true label and the prediction we can tell that ReLu works slightly better for our given system compared to sigmoid and tanh. \n"
      ],
      "metadata": {
        "id": "pY0txGI62HQB"
      }
    },
    {
      "cell_type": "code",
      "source": [
        "def main():\n",
        "    xtrain = np.array(X_train)\n",
        "    ytrain = np.array(Y_train)\n",
        "    xtest = np.array(X_test)\n",
        "    ytest = np.array(Y_test)\n",
        "    # take mean and standard deviation of features of the training set for standardization\n",
        "    meanX = np.mean(xtrain, axis=0)\n",
        "    stdX = np.std(xtrain, axis=0)\n",
        "    # standardize features of the trainig set\n",
        "    xtrainSt = (xtrain - meanX) / stdX\n",
        "    xtrainSt = xtrainSt.T\n",
        "    meanY = np.mean(ytrain, axis=0)\n",
        "    stdY = np.std(ytrain, axis=0)\n",
        "    ytrainSt = (ytrain - meanY) / stdY\n",
        "    ytrainSt = ytrainSt.T\n",
        "    xtestSt = (xtest - meanX) / stdX\n",
        "    xtestSt = xtestSt.T\n",
        "    ytestSt = (ytest - meanY) / stdY\n",
        "    ytestSt = ytestSt.T\n",
        "    epochs=1000\n",
        "    lr = 0.1\n",
        "    activation = \"tanh\"\n",
        "\n",
        "    parameters, cost_tot = MLP_model(xtrainSt, ytrainSt, 5, lr, activation,epochs, print_cost=True)\n",
        "    print(\"W1 = \" + str(parameters[\"W1\"]))\n",
        "    print(\"b1 = \" + str(parameters[\"b1\"]))\n",
        "    print(\"W2 = \" + str(parameters[\"W2\"]))\n",
        "    print(\"b2 = \" + str(parameters[\"b2\"]))\n",
        "    print(ytest.shape)\n",
        "    #Back to original\n",
        "    ytestHatSt = predict(parameters, xtestSt, activation)\n",
        "    ytestHat = ytestHatSt*stdY+meanY\n",
        "    plt.plot(X_test[:,1],ytestHat.T,'.',c='b',label='Prediction')\n",
        "    plt.plot(X_test[:,1], Y_test,'+',c = 'r', label='Given Data')\n",
        "    plt.legend()\n",
        "    plt.xlabel('feature-2')\n",
        "    plt.ylabel('Target')\n",
        "    plt.title('MLP regression on test data-Activation: tanh+no of neuron=5')\n",
        "\n",
        "if __name__ == \"__main__\":\n",
        "    main()"
      ],
      "metadata": {
        "colab": {
          "base_uri": "https://localhost:8080/",
          "height": 538
        },
        "id": "GD1ouw8vuKvX",
        "outputId": "27520ddf-b123-40a0-983d-71ef220a4a12"
      },
      "execution_count": 205,
      "outputs": [
        {
          "output_type": "stream",
          "name": "stdout",
          "text": [
            "Final loss 0.0018053774401740228\n",
            "W1 = [[ 0.07998565 -0.38866194]\n",
            " [-0.13951845  0.26115593]\n",
            " [ 0.09300713  0.35004437]\n",
            " [ 0.0835757  -0.28799793]\n",
            " [ 0.11686393  0.37667678]]\n",
            "b1 = [[ 0.05534921]\n",
            " [ 0.00195971]\n",
            " [ 0.01249209]\n",
            " [-0.0022979 ]\n",
            " [-0.00298365]]\n",
            "W2 = [[-1.00113744  0.29212753  0.52826359 -0.33889287  0.91688803]]\n",
            "b2 = [[0.0456287]]\n",
            "(49, 1)\n"
          ]
        },
        {
          "output_type": "display_data",
          "data": {
            "text/plain": [
              "<Figure size 432x288 with 1 Axes>"
            ],
            "image/png": "[encoded data removed]"
          },
          "metadata": {
            "needs_background": "light"
          }
        }
      ]
    },
    {
      "cell_type": "code",
      "source": [
        "def main():\n",
        "    xtrain = np.array(X_train)\n",
        "    ytrain = np.array(Y_train)\n",
        "    xtest = np.array(X_test)\n",
        "    ytest = np.array(Y_test)\n",
        "    # take mean and standard deviation of features of the training set for standardization\n",
        "    meanX = np.mean(xtrain, axis=0)\n",
        "    stdX = np.std(xtrain, axis=0)\n",
        "    # standardize features of the trainig set\n",
        "    xtrainSt = (xtrain - meanX) / stdX\n",
        "    xtrainSt = xtrainSt.T\n",
        "    meanY = np.mean(ytrain, axis=0)\n",
        "    stdY = np.std(ytrain, axis=0)\n",
        "    ytrainSt = (ytrain - meanY) / stdY\n",
        "    ytrainSt = ytrainSt.T\n",
        "    xtestSt = (xtest - meanX) / stdX\n",
        "    xtestSt = xtestSt.T\n",
        "    ytestSt = (ytest - meanY) / stdY\n",
        "    ytestSt = ytestSt.T\n",
        "    epochs=1000\n",
        "    lr = 0.1\n",
        "    activation = \"tanh\"\n",
        "\n",
        "    parameters, cost_tot = MLP_model(xtrainSt, ytrainSt, 5, lr, activation,epochs, print_cost=True)\n",
        "    print(\"W1 = \" + str(parameters[\"W1\"]))\n",
        "    print(\"b1 = \" + str(parameters[\"b1\"]))\n",
        "    print(\"W2 = \" + str(parameters[\"W2\"]))\n",
        "    print(\"b2 = \" + str(parameters[\"b2\"]))\n",
        "    print(ytest.shape)\n",
        "    #Back to original\n",
        "    ytestHatSt = predict(parameters, xtestSt, activation)\n",
        "    ytestHat = ytestHatSt*stdY+meanY\n",
        "    plt.plot(X_test[:,1],ytestHat.T,'.',c='b',label='Prediction')\n",
        "    plt.plot(X_test[:,1], Y_test,'+',c = 'r', label='Given Data')\n",
        "    plt.legend()\n",
        "    plt.xlabel('feature-2')\n",
        "    plt.ylabel('Target')\n",
        "    plt.title('MLP regression on test data-Activation: ReLu+no of neuron=5')\n",
        "\n",
        "if __name__ == \"__main__\":\n",
        "    main()"
      ],
      "metadata": {
        "colab": {
          "base_uri": "https://localhost:8080/",
          "height": 538
        },
        "id": "__BnjS3Yupio",
        "outputId": "b6124b02-9399-42f4-df0a-07e8cc3e61ac"
      },
      "execution_count": 229,
      "outputs": [
        {
          "output_type": "stream",
          "name": "stdout",
          "text": [
            "Final loss 0.0017496001147157343\n",
            "W1 = [[-0.09770122 -0.36620279]\n",
            " [ 0.06618752  0.36927761]\n",
            " [ 0.01470884  0.24535265]\n",
            " [-0.06114219  0.37702286]\n",
            " [-0.09781337  0.28941468]]\n",
            "b1 = [[-0.01645831]\n",
            " [ 0.01191926]\n",
            " [ 0.0079631 ]\n",
            " [-0.0673823 ]\n",
            " [ 0.00377644]]\n",
            "W2 = [[-0.63816776  0.6440031   0.2900805   1.18415931  0.34240873]]\n",
            "b2 = [[0.05334352]]\n",
            "(49, 1)\n"
          ]
        },
        {
          "output_type": "display_data",
          "data": {
            "text/plain": [
              "<Figure size 432x288 with 1 Axes>"
            ],
            "image/png": "[encoded data removed]"
          },
          "metadata": {
            "needs_background": "light"
          }
        }
      ]
    }
  ]
}