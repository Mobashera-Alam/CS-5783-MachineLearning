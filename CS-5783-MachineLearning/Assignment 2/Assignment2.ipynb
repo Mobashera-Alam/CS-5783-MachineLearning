{
  "nbformat": 4,
  "nbformat_minor": 0,
  "metadata": {
    "colab": {
      "provenance": [],
      "collapsed_sections": [],
      "authorship_tag": "ABX9TyNrgJ1CqTfM0uUGit+fviBi",
      "include_colab_link": true
    },
    "kernelspec": {
      "name": "python3",
      "display_name": "Python 3"
    },
    "language_info": {
      "name": "python"
    }
  },
  "cells": [
    {
      "cell_type": "markdown",
      "metadata": {
        "id": "view-in-github",
        "colab_type": "text"
      },
      "source": [
        "<a href=\"https://colab.research.google.com/github/Mobashera-Alam/CS-5783-MachineLearning/blob/main/CS-5783-MachineLearning/Assignment%202/Assignment2.ipynb\" target=\"_parent\"><img src=\"https://colab.research.google.com/assets/colab-badge.svg\" alt=\"Open In Colab\"/></a>"
      ]
    },
    {
      "cell_type": "code",
      "source": [
        "import numpy as np\n",
        "import matplotlib.pyplot as plt\n",
        "import pandas as pd"
      ],
      "metadata": {
        "id": "CHab55WqMOzo"
      },
      "execution_count": 60,
      "outputs": []
    },
    {
      "cell_type": "code",
      "source": [
        "from google.colab import drive\n",
        "drive.mount('/content/drive')"
      ],
      "metadata": {
        "colab": {
          "base_uri": "https://localhost:8080/"
        },
        "id": "bTNwvqDaMQNn",
        "outputId": "e644a7d4-fdf7-42b9-fdc6-99fbf99ad82f"
      },
      "execution_count": 61,
      "outputs": [
        {
          "output_type": "stream",
          "name": "stdout",
          "text": [
            "Drive already mounted at /content/drive; to attempt to forcibly remount, call drive.mount(\"/content/drive\", force_remount=True).\n"
          ]
        }
      ]
    },
    {
      "cell_type": "code",
      "source": [
        "filename_x_train = \"/content/drive/My Drive/ML/Assignment 2/X_train.csv\"\n",
        "filename_y_train = \"/content/drive/My Drive/ML/Assignment 2/Y_train.csv\"\n",
        "filename_x_test = \"/content/drive/My Drive/ML/Assignment 2/X_test.csv\"\n",
        "filename_y_test = \"/content/drive/My Drive/ML/Assignment 2/Y_test.csv\"\n",
        "X_train = pd.DataFrame()\n",
        "Y_train = pd.DataFrame()\n",
        "X_train = pd.read_csv(filename_x_train, delim_whitespace = True)\n",
        "Y_train = pd.read_csv(filename_y_train, delim_whitespace = True)\n",
        "X_test = pd.read_csv(filename_x_test, delim_whitespace = True)\n",
        "Y_test = pd.read_csv(filename_y_test, delim_whitespace = True)\n",
        "X = np.array(X_train)\n",
        "Y = np.array(Y_train)\n",
        "X_test = np.array(X_test)\n",
        "Y_test = np.array(Y_test)\n"
      ],
      "metadata": {
        "id": "Nz2eUTOSMnRG"
      },
      "execution_count": 62,
      "outputs": []
    },
    {
      "cell_type": "markdown",
      "source": [
        "1. This is a linear regression problem so we choose identity function as activation funciton in output layer."
      ],
      "metadata": {
        "id": "jdul7M3uXzMe"
      }
    },
    {
      "cell_type": "markdown",
      "source": [
        "2. Since output layers has one column (label) so we will need one neuron at output layer to match the dimension. "
      ],
      "metadata": {
        "id": "vSF0HVsPYQZ2"
      }
    },
    {
      "cell_type": "code",
      "source": [
        "#Activation function\n",
        "def sigmoid(Z):\n",
        "    return 1/(1+np.exp(-Z))\n",
        "\n",
        "def relu(Z):\n",
        "    return np.maximum(0,Z)"
      ],
      "metadata": {
        "id": "KQAK-qF6TNNW"
      },
      "execution_count": 63,
      "outputs": []
    },
    {
      "cell_type": "code",
      "source": [
        "#Shape of layer\n",
        "def layer_sizes(X, Y):\n",
        "    n_x = X.shape[0] # size of input layer\n",
        "    n_y = Y.shape[0] # size of output layer\n",
        "    return (n_x, n_y)"
      ],
      "metadata": {
        "id": "rJdN7MsjTnti"
      },
      "execution_count": 64,
      "outputs": []
    },
    {
      "cell_type": "code",
      "source": [
        "def init_params(n_x, n_h, n_y):\n",
        "    W1 = np.random.randn(n_h,n_x) * 0.1\n",
        "    b1 = np.zeros((n_h,1))\n",
        "    W2 = np.random.randn(n_y,n_h) * 0.1\n",
        "    b2 = np.zeros((n_y,1))\n",
        "    \n",
        "    parameters = {\"W1\": W1,\n",
        "                  \"b1\": b1,\n",
        "                  \"W2\": W2,\n",
        "                  \"b2\": b2}\n",
        "    return parameters"
      ],
      "metadata": {
        "id": "s1VThVuqUJ14"
      },
      "execution_count": 65,
      "outputs": []
    },
    {
      "cell_type": "code",
      "source": [
        "def forward_propagation(X, parameters, activation):\n",
        "    # Retrieve each parameter from the dictionary \"parameters\"\n",
        "    W1 = parameters[\"W1\"]\n",
        "    b1 = parameters[\"b1\"]\n",
        "    W2 = parameters[\"W2\"]\n",
        "    b2 = parameters[\"b2\"]\n",
        "    \n",
        "    # Implement Forward Propagation to calculate A2 (probabilities)\n",
        "    Z1 = np.dot(W1,X) + b1\n",
        "\n",
        "    if activation == \"sigmoid\":\n",
        "        A1 = sigmoid(Z1)\n",
        "    elif activation == \"relu\":\n",
        "        \n",
        "        A1 = relu(Z1)\n",
        "    elif activation == \"tanh\":\n",
        "        A1 = np.tanh(Z1)\n",
        "    else:\n",
        "        A1 = sigmoid(Z1)\n",
        "    \n",
        "    Z2 = np.dot(W2,A1) + b2\n",
        "    A2 = Z2\n",
        "\n",
        "    cache = {\"Z1\": Z1,\n",
        "             \"A1\": A1,\n",
        "             \"Z2\": Z2,\n",
        "             \"A2\": A2}\n",
        "    \n",
        "    return A2, cache"
      ],
      "metadata": {
        "id": "3aSTpbCzUTLM"
      },
      "execution_count": 74,
      "outputs": []
    },
    {
      "cell_type": "code",
      "source": [
        "def compute_cost(A2, Y, parameters):\n",
        "    \n",
        "    m = Y.shape[1] # number of example\n",
        "\n",
        "    #MSE\n",
        "    cost = (1/m) * (Y - A2) @ (Y - A2).T\n",
        "    cost = float(np.squeeze(cost))  # makes sure cost is the dimension we expect. E.g., turns [[17]] into 17\n",
        "    return cost"
      ],
      "metadata": {
        "id": "EmewwGUzUYod"
      },
      "execution_count": 75,
      "outputs": []
    },
    {
      "cell_type": "code",
      "source": [
        "def backward_propagation(parameters, cache, X, Y, activation):\n",
        "\n",
        "    m = X.shape[1]\n",
        "    \n",
        "    # First, retrieve W1 and W2 from the dictionary \"parameters\".\n",
        "    W1 = parameters[\"W1\"]\n",
        "    b1 = parameters[\"b1\"]\n",
        "    W2 = parameters[\"W2\"]\n",
        "    b2 = parameters[\"b2\"]\n",
        "        \n",
        "    # Retrieve also A1 and A2 from dictionary \"cache\".\n",
        "    A1 = cache[\"A1\"]\n",
        "    A2 = cache[\"A2\"]\n",
        "    Z1 = cache[\"Z1\"]\n",
        "    Z2 = cache[\"Z2\"]\n",
        "    \n",
        "    # Backward propagation: calculate dW1, db1, dW2, db2. \n",
        "    dZ2 = A2 - Y\n",
        "    dW2 = (1/m) * np.dot(dZ2,A1.T)\n",
        "    db2 = (1/m) *(np.sum(dZ2,axis=1,keepdims=True))\n",
        "\n",
        "    if activation == \"sigmoid\":\n",
        "        dZ1 = np.dot(W2.T,dZ2) * sigmoid(Z1) * (1 - sigmoid(Z1))\n",
        "    elif activation == \"relu\":\n",
        "        dZ1 = np.dot(W2.T,dZ2)\n",
        "        dZ1[Z1 <= 0.0] = 0.0\n",
        "    elif activation == \"tanh\":\n",
        "        dZ1 = np.dot(W2.T,dZ2) * (1 - np.tanh(Z1)*np.tanh(Z1))\n",
        "    else:\n",
        "        dZ1 = np.dot(W2.T,dZ2) * sigmoid(Z1) * (1 - sigmoid(Z1))\n",
        "\n",
        "    dW1 = (1/m) *(np.dot(dZ1,X.T))\n",
        "    db1 = (1/m) *(np.sum(dZ1, axis=1, keepdims=True))\n",
        "    \n",
        "    grads = {\"dW1\": dW1,\n",
        "             \"db1\": db1,\n",
        "             \"dW2\": dW2,\n",
        "             \"db2\": db2}\n",
        "    \n",
        "    return grads"
      ],
      "metadata": {
        "id": "6Rswd1GeUnzU"
      },
      "execution_count": 76,
      "outputs": []
    },
    {
      "cell_type": "code",
      "source": [
        "def update_parameters(parameters, grads, learning_rate):\n",
        "\n",
        "    # Retrieve each parameter from the dictionary \"parameters\"\n",
        "    W1 = parameters[\"W1\"]\n",
        "    b1 = parameters[\"b1\"]\n",
        "    W2 = parameters[\"W2\"]\n",
        "    b2 = parameters[\"b2\"]\n",
        "    \n",
        "    # Retrieve each gradient from the dictionary \"grads\"\n",
        "    dW1 = grads[\"dW1\"]\n",
        "    db1 = grads[\"db1\"]\n",
        "    dW2 = grads[\"dW2\"]\n",
        "    db2 = grads[\"db2\"]\n",
        "    \n",
        "    # Update rule for each parameter\n",
        "    W1 = W1 - learning_rate * dW1\n",
        "    b1 = b1 - learning_rate * db1\n",
        "    W2 = W2 - learning_rate * dW2\n",
        "    b2 = b2 - learning_rate * db2\n",
        "    \n",
        "    parameters = {\"W1\": W1,\n",
        "                  \"b1\": b1,\n",
        "                  \"W2\": W2,\n",
        "                  \"b2\": b2}\n",
        "    \n",
        "    return parameters\n"
      ],
      "metadata": {
        "id": "kS1tP1DpUsva"
      },
      "execution_count": 77,
      "outputs": []
    },
    {
      "cell_type": "code",
      "source": [
        "def MLP_model(X, Y, n_h, learning_rate, activation, num_iterations = 1000, print_cost=False):\n",
        "    n_x = layer_sizes(X, Y)[0]\n",
        "    n_y = layer_sizes(X, Y)[1]\n",
        "    \n",
        "    # Initialize parameters\n",
        "    parameters = init_params(n_x, n_h, n_y)\n",
        "    \n",
        "    cost_tot = []\n",
        "    # Loop (gradient descent)\n",
        "    \n",
        "    for i in range(0, num_iterations):\n",
        "        # Forward propagation. Inputs: \"X, parameters\". Outputs: \"A2, cache\"\n",
        "        A2, cache = forward_propagation(X, parameters, activation)\n",
        "\n",
        "        # Cost function. Inputs: \"A2, Y, parameters\". Outputs: \"cost\"\n",
        "        cost = compute_cost(A2, Y, parameters)\n",
        "\n",
        "        cost_tot.append(cost)\n",
        "        # Backpropagation. Inputs: \"parameters, cache, X, Y\". Outputs: \"grads\"\n",
        "        \n",
        "        grads = backward_propagation(parameters, cache, X, Y, activation)\n",
        "        \n",
        "        # Update rule for each parameter\n",
        "        parameters = update_parameters(parameters, grads, learning_rate)\n",
        "        # If print_cost=True, Print the cost every 1000 iterations\n",
        "        if print_cost and i % 500 == 0:\n",
        "            print (\"Cost after iteration %i: %f\" %(i, cost))\n",
        "    # Returns parameters learnt by the model. They can then be used to predict output\n",
        "    return parameters, cost_tot\n"
      ],
      "metadata": {
        "id": "UvYTuA0TUwxB"
      },
      "execution_count": 78,
      "outputs": []
    },
    {
      "cell_type": "code",
      "source": [
        "def predict(parameters, X, activation):\n",
        "    A2, cache = forward_propagation(X, parameters, activation)\n",
        "    return A2"
      ],
      "metadata": {
        "id": "38ZyiLUKU39i"
      },
      "execution_count": 79,
      "outputs": []
    },
    {
      "cell_type": "code",
      "source": [
        "def plot_cost(cost_tot, num_epochs):\n",
        "\tplt.xlabel('Number of Iterations')\n",
        "\tplt.ylabel('Loss')\n",
        "\tplt.plot(np.arange(num_epochs), cost_tot)\n",
        "\tplt.show()"
      ],
      "metadata": {
        "id": "h5KMcHJ0U-pR"
      },
      "execution_count": 80,
      "outputs": []
    },
    {
      "cell_type": "code",
      "execution_count": 81,
      "metadata": {
        "colab": {
          "base_uri": "https://localhost:8080/"
        },
        "id": "ocJHzDzOMLHM",
        "outputId": "063a9162-47a1-4627-f20b-6b1da3aea14a"
      },
      "outputs": [
        {
          "output_type": "stream",
          "name": "stdout",
          "text": [
            "Cost after iteration 0: 1.004850\n",
            "Cost after iteration 500: 0.021754\n",
            "W1 = [[-0.0060431   1.35205336]\n",
            " [-0.00490626 -0.89208058]]\n",
            "b1 = [[-0.14537243]\n",
            " [ 0.02914582]]\n",
            "W2 = [[ 2.79369638 -1.2200253 ]]\n",
            "b2 = [[-0.69923386]]\n",
            "0.10777607399014275\n"
          ]
        }
      ],
      "source": [
        "def main():\n",
        "    xtrain = np.array(X_train)\n",
        "    ytrain = np.array(Y_train)\n",
        "    xtest = np.array(X_test)\n",
        "    ytest = np.array(Y_test)\n",
        "    # take mean and standard deviation of features of the training set for standardization\n",
        "    meanX = np.mean(xtrain, axis=0)\n",
        "    stdX = np.std(xtrain, axis=0)\n",
        "    # standardize features of the trainig set\n",
        "    xtrainSt = (xtrain - meanX) / stdX\n",
        "    xtrainSt = xtrainSt.T\n",
        "    meanY = np.mean(ytrain, axis=0)\n",
        "    stdY = np.std(ytrain, axis=0)\n",
        "    ytrainSt = (ytrain - meanY) / stdY\n",
        "    ytrainSt = ytrainSt.T\n",
        "    xtestSt = (xtrain - meanX) / stdX\n",
        "    xtestSt = xtestSt.T\n",
        "    ytestSt = (ytrain - meanY) / stdY\n",
        "    ytestSt = ytestSt.T\n",
        "    epochs=1000\n",
        "    lr = 0.1\n",
        "    activation = \"sigmoid\"\n",
        "\n",
        "    parameters, cost_tot = MLP_model(xtrainSt, ytrainSt, 2, lr, activation,epochs, print_cost=True)\n",
        "    print(\"W1 = \" + str(parameters[\"W1\"]))\n",
        "    print(\"b1 = \" + str(parameters[\"b1\"]))\n",
        "    print(\"W2 = \" + str(parameters[\"W2\"]))\n",
        "    print(\"b2 = \" + str(parameters[\"b2\"]))\n",
        "\n",
        "    \n",
        "\n",
        "    ytestHatSt = predict(parameters, xtestSt, activation)\n",
        "    #Back to original data\n",
        "    error = np.sqrt(((ytestHatSt - ytestSt) ** 2).mean())\n",
        "    print(error)\n",
        "    \n",
        "\n",
        "   \n",
        "\n",
        "if __name__ == \"__main__\":\n",
        "    main()"
      ]
    },
    {
      "cell_type": "markdown",
      "source": [
        "3. MSE loss =  0.1055994247979705(Will vary for each run) for learning rate = 0.1 on training set. And MSE =0.09982126929708558 on test set. "
      ],
      "metadata": {
        "id": "kPnJZ3GJfso0"
      }
    },
    {
      "cell_type": "code",
      "source": [
        "#for various learning rate\n",
        "def main():\n",
        "    xtrain = np.array(X_train)\n",
        "    ytrain = np.array(Y_train)\n",
        "    xtest = np.array(X_test)\n",
        "    ytest = np.array(Y_test)\n",
        "    # take mean and standard deviation of features of the training set for standardization\n",
        "    meanX = np.mean(xtrain, axis=0)\n",
        "    stdX = np.std(xtrain, axis=0)\n",
        "    xtrainSt = (xtrain - meanX) / stdX\n",
        "    xtrainSt = xtrainSt.T\n",
        "    meanY = np.mean(ytrain, axis=0)\n",
        "    stdY = np.std(ytrain, axis=0)\n",
        "    ytrainSt = (ytrain - meanY) / stdY\n",
        "    ytrainSt = ytrainSt.T\n",
        "    xtestSt = (xtest - meanX) / stdX\n",
        "    ytestSt = (ytest - meanY) / stdY\n",
        "\n",
        "    epochs=1001\n",
        "    lr = [0.001,0.01,0.1,1]\n",
        "    error = [0,0,0,0]\n",
        "    best = [1,1,1,1]\n",
        "\n",
        "    activation = \"sigmoid\"\n",
        "\n",
        "    parameters, cost_tot = MLP_model(xtrainSt, ytrainSt, 2, lr[0], activation,epochs, print_cost=True)\n",
        "    ytrainHat = predict(parameters, xtrainSt, activation)\n",
        "    error[0] = np.sqrt(((ytrainHat - ytrainSt) ** 2).mean())\n",
        "    parameters, cost_tot = MLP_model(xtrainSt, ytrainSt, 2, lr[1], activation,epochs, print_cost=True)\n",
        "    ytrainHat = predict(parameters, xtrainSt, activation)\n",
        "    error[1]= np.sqrt(((ytrainHat - ytrainSt) ** 2).mean())\n",
        "    parameters, cost_tot = MLP_model(xtrainSt, ytrainSt, 2, lr[2], activation,epochs, print_cost=True)\n",
        "    ytrainHat = predict(parameters, xtrainSt, activation)\n",
        "    error[2] = np.sqrt(((ytrainHat - ytrainSt) ** 2).mean())\n",
        "    parameters, cost_tot = MLP_model(xtrainSt, ytrainSt, 2, lr[3], activation,epochs, print_cost=True)\n",
        "    ytrainHat = predict(parameters, xtrainSt, activation)\n",
        "    error[3] = np.sqrt(((ytrainHat - ytrainSt) ** 2).mean())\n",
        "    tot = np.array(best)-np.array(error)\n",
        "    plt.plot(lr,tot)\n",
        "    plt.xlabel('Learning rate')\n",
        "    plt.ylabel('MSE')\n",
        "    plt.title('MSE vs Various learning rate, Activation(Hidden layer)-Sigmoid')\n",
        "\n",
        "if __name__ == \"__main__\":\n",
        "    main()"
      ],
      "metadata": {
        "colab": {
          "base_uri": "https://localhost:8080/",
          "height": 503
        },
        "id": "BA28jwoUhHqn",
        "outputId": "8256b043-e4a5-4016-9be2-0c19a6457ac4"
      },
      "execution_count": 82,
      "outputs": [
        {
          "output_type": "stream",
          "name": "stdout",
          "text": [
            "Cost after iteration 0: 0.994378\n",
            "Cost after iteration 500: 0.992260\n",
            "Cost after iteration 1000: 0.989724\n",
            "Cost after iteration 0: 1.023878\n",
            "Cost after iteration 500: 0.941428\n",
            "Cost after iteration 1000: 0.624901\n",
            "Cost after iteration 0: 1.006933\n",
            "Cost after iteration 500: 0.016475\n",
            "Cost after iteration 1000: 0.010218\n",
            "Cost after iteration 0: 1.000325\n",
            "Cost after iteration 500: 0.002851\n",
            "Cost after iteration 1000: 0.002264\n"
          ]
        },
        {
          "output_type": "display_data",
          "data": {
            "text/plain": [
              "<Figure size 432x288 with 1 Axes>"
            ],
            "image/png": "[encoded data removed]"
          },
          "metadata": {
            "needs_background": "light"
          }
        }
      ]
    },
    {
      "cell_type": "markdown",
      "source": [
        "5. From the tested learning rates, we can tell that increasing learning rate improves the model. But for the same number of iteration but learning rate 0.001 to 0.01 the accuracy increases significantly. "
      ],
      "metadata": {
        "id": "aQq-46FDDMVN"
      }
    },
    {
      "cell_type": "code",
      "source": [
        "#effect of number of hidden layer\n",
        "def main():\n",
        "    xtrain = np.array(X_train)\n",
        "    ytrain = np.array(Y_train)\n",
        "    xtest = np.array(X_test)\n",
        "    ytest = np.array(Y_test)\n",
        "    # take mean and standard deviation of features of the training set for standardization\n",
        "    meanX = np.mean(xtrain, axis=0)\n",
        "    stdX = np.std(xtrain, axis=0)\n",
        "    xtrainSt = (xtrain - meanX) / stdX\n",
        "    xtrainSt = xtrainSt.T\n",
        "    meanY = np.mean(ytrain, axis=0)\n",
        "    stdY = np.std(ytrain, axis=0)\n",
        "    ytrainSt = (ytrain - meanY) / stdY\n",
        "    ytrainSt = ytrainSt.T\n",
        "    xtestSt = (xtest - meanX) / stdX\n",
        "    ytestSt = (ytest - meanY) / stdY\n",
        "\n",
        "    epochs=1000\n",
        "    lr =0.1\n",
        "    n_n = [1,3,5,7,9,10]\n",
        "    error = [0,0,0,0,0,0]\n",
        "\n",
        "    activation = \"sigmoid\"\n",
        "    parameters, cost_tot = MLP_model(xtrainSt, ytrainSt, n_n[0], lr, activation,epochs, print_cost=True)\n",
        "    ytrainHat = predict(parameters, xtrainSt, activation)\n",
        "    error[0] = np.sqrt(((ytrainHat - ytrainSt) ** 2).mean())\n",
        "    parameters, cost_tot = MLP_model(xtrainSt, ytrainSt, n_n[1], lr, activation,epochs, print_cost=True)\n",
        "    ytrainHat = predict(parameters, xtrainSt, activation)\n",
        "    error[1]= np.sqrt(((ytrainHat - ytrainSt) ** 2).mean())\n",
        "    parameters, cost_tot = MLP_model(xtrainSt, ytrainSt, n_n[2], lr, activation,epochs, print_cost=True)\n",
        "    ytrainHat = predict(parameters, xtrainSt, activation)\n",
        "    error[2] = np.sqrt(((ytrainHat - ytrainSt) ** 2).mean())\n",
        "    parameters, cost_tot = MLP_model(xtrainSt, ytrainSt, n_n[3], lr, activation,epochs, print_cost=True)\n",
        "    ytrainHat = predict(parameters, xtrainSt, activation)\n",
        "    error[3] = np.sqrt(((ytrainHat - ytrainSt) ** 2).mean())\n",
        "    parameters, cost_tot = MLP_model(xtrainSt, ytrainSt, n_n[4], lr, activation,epochs, print_cost=True)\n",
        "    ytrainHat = predict(parameters, xtrainSt, activation)\n",
        "    error[4] = np.sqrt(((ytrainHat - ytrainSt) ** 2).mean())\n",
        "    parameters, cost_tot = MLP_model(xtrainSt, ytrainSt, n_n[5], lr, activation,epochs, print_cost=True)\n",
        "    ytrainHat = predict(parameters, xtrainSt, activation)\n",
        "    error[5] = np.sqrt(((ytrainHat - ytrainSt) ** 2).mean())\n",
        "    plt.plot(n_n,error)\n",
        "    plt.xlabel('Learning rate')\n",
        "    plt.ylabel('MSE')\n",
        "    plt.title('MSE vs Various number of neuron in hidden layer, Activation(Hidden layer)-Sigmoid')\n",
        "    #accuracy is the difference be\n",
        "if __name__ == \"__main__\":\n",
        "    main()"
      ],
      "metadata": {
        "colab": {
          "base_uri": "https://localhost:8080/",
          "height": 503
        },
        "id": "kbJZWZvYDsd-",
        "outputId": "3d9fa6de-178b-4124-c754-2ac1a0b01f0d"
      },
      "execution_count": 83,
      "outputs": [
        {
          "output_type": "stream",
          "name": "stdout",
          "text": [
            "Cost after iteration 0: 0.993105\n",
            "Cost after iteration 500: 0.037754\n",
            "Cost after iteration 0: 1.044484\n",
            "Cost after iteration 500: 0.020248\n",
            "Cost after iteration 0: 1.024345\n",
            "Cost after iteration 500: 0.005122\n",
            "Cost after iteration 0: 1.006507\n",
            "Cost after iteration 500: 0.004880\n",
            "Cost after iteration 0: 1.018993\n",
            "Cost after iteration 500: 0.003731\n",
            "Cost after iteration 0: 1.030553\n",
            "Cost after iteration 500: 0.004141\n"
          ]
        },
        {
          "output_type": "display_data",
          "data": {
            "text/plain": [
              "<Figure size 432x288 with 1 Axes>"
            ],
            "image/png": "[encoded data removed]"
          },
          "metadata": {
            "needs_background": "light"
          }
        }
      ]
    },
    {
      "cell_type": "markdown",
      "source": [
        "6.(a) If we change the number of neurons the weight matrix shape will change for example for this given system we have two features so weight matrix in first layer(hidden) would be [no of neurons,input feature] because it gets transposed when performing matrix multiplicaiton. So there will be no change in update rule only the shape of weight matrix will change. Update rule might change when the number of hidden layers changes.\n",
        "\n",
        "(b)Based on final loss and plot for various neurons we can see that upto 9 neuron in the hidden layer works well but 10 neuron causes overfitting issue.(We validated based on test data as well)  "
      ],
      "metadata": {
        "id": "ZDmIUDoiG0-r"
      }
    },
    {
      "cell_type": "code",
      "source": [
        "def main():\n",
        "    xtrain = np.array(X_train)\n",
        "    ytrain = np.array(Y_train)\n",
        "    xtest = np.array(X_test)\n",
        "    ytest = np.array(Y_test)\n",
        "    # take mean and standard deviation of features of the training set for standardization\n",
        "    meanX = np.mean(xtrain, axis=0)\n",
        "    stdX = np.std(xtrain, axis=0)\n",
        "    # standardize features of the trainig set\n",
        "    xtrainSt = (xtrain - meanX) / stdX\n",
        "    xtrainSt = xtrainSt.T\n",
        "    meanY = np.mean(ytrain, axis=0)\n",
        "    stdY = np.std(ytrain, axis=0)\n",
        "    ytrainSt = (ytrain - meanY) / stdY\n",
        "    ytrainSt = ytrainSt.T\n",
        "\n",
        "    xtestSt = (xtest - meanX) / stdX\n",
        "    ytestSt = (ytest - meanY) / stdY\n",
        "\n",
        "    epochs=2000\n",
        "    lr = 0.1\n",
        "    activation = \"sigmoid\"\n",
        "\n",
        "    parameters, cost_tot = MLP_model(xtrainSt, ytrainSt, 1, lr, activation,epochs, print_cost=True)\n",
        "    print(\"W1 = \" + str(parameters[\"W1\"]))\n",
        "    print(\"b1 = \" + str(parameters[\"b1\"]))\n",
        "    print(\"W2 = \" + str(parameters[\"W2\"]))\n",
        "    print(\"b2 = \" + str(parameters[\"b2\"]))\n",
        "\n",
        "    plot_cost(cost_tot, epochs)\n",
        "\n",
        "    ytrainHat = predict(parameters, xtrainSt, activation)\n",
        " \n",
        "\n",
        "    "
      ],
      "metadata": {
        "id": "3ekVPsWbNvaf"
      },
      "execution_count": 84,
      "outputs": []
    },
    {
      "cell_type": "code",
      "source": [
        "def main():\n",
        "    xtrain = np.array(X_train)\n",
        "    ytrain = np.array(Y_train)\n",
        "    xtest = np.array(X_test)\n",
        "    ytest = np.array(Y_test)\n",
        "    # take mean and standard deviation of features of the training set for standardization\n",
        "    meanX = np.mean(xtrain, axis=0)\n",
        "    stdX = np.std(xtrain, axis=0)\n",
        "    # standardize features of the trainig set\n",
        "    xtrainSt = (xtrain - meanX) / stdX\n",
        "    xtrainSt = xtrainSt.T\n",
        "    meanY = np.mean(ytrain, axis=0)\n",
        "    stdY = np.std(ytrain, axis=0)\n",
        "    ytrainSt = (ytrain - meanY) / stdY\n",
        "    ytrainSt = ytrainSt.T\n",
        "    xtestSt = (xtest - meanX) / stdX\n",
        "    xtestSt = xtestSt.T\n",
        "    ytestSt = (ytest - meanY) / stdY\n",
        "    ytestSt = ytestSt.T\n",
        "    epochs=1000\n",
        "    lr = 0.1\n",
        "    activation = \"sigmoid\"\n",
        "\n",
        "    parameters, cost_tot = MLP_model(xtrainSt, ytrainSt, 2, lr, activation,epochs, print_cost=True)\n",
        "    print(\"W1 = \" + str(parameters[\"W1\"]))\n",
        "    print(\"b1 = \" + str(parameters[\"b1\"]))\n",
        "    print(\"W2 = \" + str(parameters[\"W2\"]))\n",
        "    print(\"b2 = \" + str(parameters[\"b2\"]))\n",
        "    print(ytest.shape)\n",
        "    #Back to original\n",
        "    ytestHatSt = predict(parameters, xtestSt, activation)\n",
        "    ytestHat = ytestHatSt*stdY+meanY\n",
        "    plt.plot(X_test[:,0],ytestHat.T,'.',c='b',label='Prediction')\n",
        "    plt.plot(X_test[:,0], Y_test,'+',c = 'r', label='Given Data')\n",
        "    plt.legend()\n",
        "    plt.xlabel('feature-1')\n",
        "    plt.ylabel('Target')\n",
        "    plt.title('MLP regression on test data-Activation: Sigmoid+no of neuron=2')\n",
        "\n",
        "if __name__ == \"__main__\":\n",
        "    main()"
      ],
      "metadata": {
        "id": "OyEH75NkbK_L",
        "colab": {
          "base_uri": "https://localhost:8080/",
          "height": 451
        },
        "outputId": "854abda7-45d8-486c-ab90-7e59dddc8c4a"
      },
      "execution_count": 85,
      "outputs": [
        {
          "output_type": "stream",
          "name": "stdout",
          "text": [
            "Cost after iteration 0: 0.999060\n",
            "Cost after iteration 500: 0.023894\n",
            "W1 = [[-0.05075815  1.4323884 ]\n",
            " [ 0.08665793  1.0917683 ]]\n",
            "b1 = [[-0.23026472]\n",
            " [-0.10979338]]\n",
            "W2 = [[2.54630237 1.21890286]]\n",
            "b2 = [[-1.74289828]]\n",
            "(49, 1)\n"
          ]
        },
        {
          "output_type": "display_data",
          "data": {
            "text/plain": [
              "<Figure size 432x288 with 1 Axes>"
            ],
            "image/png": "[encoded data removed]"
          },
          "metadata": {
            "needs_background": "light"
          }
        }
      ]
    },
    {
      "cell_type": "code",
      "source": [
        "def main():\n",
        "    xtrain = np.array(X_train)\n",
        "    ytrain = np.array(Y_train)\n",
        "    xtest = np.array(X_test)\n",
        "    ytest = np.array(Y_test)\n",
        "    # take mean and standard deviation of features of the training set for standardization\n",
        "    meanX = np.mean(xtrain, axis=0)\n",
        "    stdX = np.std(xtrain, axis=0)\n",
        "    # standardize features of the trainig set\n",
        "    xtrainSt = (xtrain - meanX) / stdX\n",
        "    xtrainSt = xtrainSt.T\n",
        "    meanY = np.mean(ytrain, axis=0)\n",
        "    stdY = np.std(ytrain, axis=0)\n",
        "    ytrainSt = (ytrain - meanY) / stdY\n",
        "    ytrainSt = ytrainSt.T\n",
        "    xtestSt = (xtest - meanX) / stdX\n",
        "    xtestSt = xtestSt.T\n",
        "    ytestSt = (ytest - meanY) / stdY\n",
        "    ytestSt = ytestSt.T\n",
        "    epochs=1000\n",
        "    lr = 0.1\n",
        "    activation = \"sigmoid\"\n",
        "\n",
        "    parameters, cost_tot = MLP_model(xtrainSt, ytrainSt, 2, lr, activation,epochs, print_cost=True)\n",
        "    print(\"W1 = \" + str(parameters[\"W1\"]))\n",
        "    print(\"b1 = \" + str(parameters[\"b1\"]))\n",
        "    print(\"W2 = \" + str(parameters[\"W2\"]))\n",
        "    print(\"b2 = \" + str(parameters[\"b2\"]))\n",
        "    print(ytest.shape)\n",
        "    #Back to original\n",
        "    ytestHatSt = predict(parameters, xtestSt, activation)\n",
        "    ytestHat = ytestHatSt*stdY+meanY\n",
        "    plt.plot(X_test[:,1],ytestHat.T,'.',c='b',label='Prediction')\n",
        "    plt.plot(X_test[:,1], Y_test,'+',c = 'r', label='Given Data')\n",
        "    plt.legend()\n",
        "    plt.xlabel('feature-2')\n",
        "    plt.ylabel('Target')\n",
        "    plt.title('MLP regression on test data-Activation: Sigmoid+ no of neuron=2')\n",
        "\n",
        "if __name__ == \"__main__\":\n",
        "    main()"
      ],
      "metadata": {
        "colab": {
          "base_uri": "https://localhost:8080/",
          "height": 451
        },
        "id": "bRAZtVA0egKf",
        "outputId": "324aa167-2bcc-467f-bf46-a665c8f8d2cc"
      },
      "execution_count": 86,
      "outputs": [
        {
          "output_type": "stream",
          "name": "stdout",
          "text": [
            "Cost after iteration 0: 1.000903\n",
            "Cost after iteration 500: 0.026082\n",
            "W1 = [[ 0.05823895 -0.75620716]\n",
            " [ 0.01907313  1.37658699]]\n",
            "b1 = [[ 0.03044621]\n",
            " [-0.1485003 ]]\n",
            "W2 = [[-0.9706366   3.02803818]]\n",
            "b2 = [[-0.93486101]]\n",
            "(49, 1)\n"
          ]
        },
        {
          "output_type": "display_data",
          "data": {
            "text/plain": [
              "<Figure size 432x288 with 1 Axes>"
            ],
            "image/png": "[encoded data removed]"
          },
          "metadata": {
            "needs_background": "light"
          }
        }
      ]
    },
    {
      "cell_type": "code",
      "source": [
        "def main():\n",
        "    xtrain = np.array(X_train)\n",
        "    ytrain = np.array(Y_train)\n",
        "    xtest = np.array(X_test)\n",
        "    ytest = np.array(Y_test)\n",
        "    # take mean and standard deviation of features of the training set for standardization\n",
        "    meanX = np.mean(xtrain, axis=0)\n",
        "    stdX = np.std(xtrain, axis=0)\n",
        "    # standardize features of the trainig set\n",
        "    xtrainSt = (xtrain - meanX) / stdX\n",
        "    xtrainSt = xtrainSt.T\n",
        "    meanY = np.mean(ytrain, axis=0)\n",
        "    stdY = np.std(ytrain, axis=0)\n",
        "    ytrainSt = (ytrain - meanY) / stdY\n",
        "    ytrainSt = ytrainSt.T\n",
        "    xtestSt = (xtest - meanX) / stdX\n",
        "    xtestSt = xtestSt.T\n",
        "    ytestSt = (ytest - meanY) / stdY\n",
        "    ytestSt = ytestSt.T\n",
        "    epochs=1000\n",
        "    lr = 0.1\n",
        "    activation = \"sigmoid\"\n",
        "\n",
        "    parameters, cost_tot = MLP_model(xtrainSt, ytrainSt, 9, lr, activation,epochs, print_cost=True)\n",
        "    print(\"W1 = \" + str(parameters[\"W1\"]))\n",
        "    print(\"b1 = \" + str(parameters[\"b1\"]))\n",
        "    print(\"W2 = \" + str(parameters[\"W2\"]))\n",
        "    print(\"b2 = \" + str(parameters[\"b2\"]))\n",
        "    print(ytest.shape)\n",
        "    #Back to original\n",
        "    ytestHatSt = predict(parameters, xtestSt, activation)\n",
        "    ytestHat = ytestHatSt*stdY+meanY\n",
        "    plt.plot(X_test[:,0],ytestHat.T,'.',c='b',label='Prediction')\n",
        "    plt.plot(X_test[:,0], Y_test,'+',c = 'r', label='Given Data')\n",
        "    plt.legend()\n",
        "    plt.xlabel('feature-1')\n",
        "    plt.ylabel('Target')\n",
        "    plt.title('MLP regression on test data-Activation: Sigmoid+no of neuron=9')\n",
        "\n",
        "if __name__ == \"__main__\":\n",
        "    main()"
      ],
      "metadata": {
        "colab": {
          "base_uri": "https://localhost:8080/",
          "height": 712
        },
        "id": "lQtVEZbLqRVp",
        "outputId": "093df7b9-b530-491f-c1f3-ce28da8fcf27"
      },
      "execution_count": 87,
      "outputs": [
        {
          "output_type": "stream",
          "name": "stdout",
          "text": [
            "Cost after iteration 0: 0.999014\n",
            "Cost after iteration 500: 0.005635\n",
            "W1 = [[-0.15114245 -0.21509955]\n",
            " [ 0.09743674 -1.00193618]\n",
            " [-0.11140538  0.36826588]\n",
            " [-0.01514778  0.91399748]\n",
            " [-0.08111952 -0.35447661]\n",
            " [ 0.0546141  -0.5435718 ]\n",
            " [ 0.11437784  1.00060083]\n",
            " [ 0.09646477  0.09366904]\n",
            " [-0.1069666   0.0011291 ]]\n",
            "b1 = [[ 0.0004017 ]\n",
            " [ 0.06589193]\n",
            " [-0.00617165]\n",
            " [-0.04129695]\n",
            " [ 0.00395444]\n",
            " [ 0.01064002]\n",
            " [-0.0463116 ]\n",
            " [ 0.00060528]\n",
            " [-0.00052859]]\n",
            "W2 = [[-0.23135804 -1.41470442  0.37575125  1.1694357  -0.39550899 -0.60467815\n",
            "   1.37094888  0.07332584 -0.00979739]]\n",
            "b2 = [[-0.11765754]]\n",
            "(49, 1)\n"
          ]
        },
        {
          "output_type": "display_data",
          "data": {
            "text/plain": [
              "<Figure size 432x288 with 1 Axes>"
            ],
            "image/png": "[encoded data removed]"
          },
          "metadata": {
            "needs_background": "light"
          }
        }
      ]
    },
    {
      "cell_type": "code",
      "source": [
        "def main():\n",
        "    xtrain = np.array(X_train)\n",
        "    ytrain = np.array(Y_train)\n",
        "    xtest = np.array(X_test)\n",
        "    ytest = np.array(Y_test)\n",
        "    # take mean and standard deviation of features of the training set for standardization\n",
        "    meanX = np.mean(xtrain, axis=0)\n",
        "    stdX = np.std(xtrain, axis=0)\n",
        "    # standardize features of the trainig set\n",
        "    xtrainSt = (xtrain - meanX) / stdX\n",
        "    xtrainSt = xtrainSt.T\n",
        "    meanY = np.mean(ytrain, axis=0)\n",
        "    stdY = np.std(ytrain, axis=0)\n",
        "    ytrainSt = (ytrain - meanY) / stdY\n",
        "    ytrainSt = ytrainSt.T\n",
        "    xtestSt = (xtest - meanX) / stdX\n",
        "    xtestSt = xtestSt.T\n",
        "    ytestSt = (ytest - meanY) / stdY\n",
        "    ytestSt = ytestSt.T\n",
        "    epochs=1000\n",
        "    lr = 0.1\n",
        "    activation = \"sigmoid\"\n",
        "\n",
        "    parameters, cost_tot = MLP_model(xtrainSt, ytrainSt, 9, lr, activation,epochs, print_cost=True)\n",
        "    print(\"W1 = \" + str(parameters[\"W1\"]))\n",
        "    print(\"b1 = \" + str(parameters[\"b1\"]))\n",
        "    print(\"W2 = \" + str(parameters[\"W2\"]))\n",
        "    print(\"b2 = \" + str(parameters[\"b2\"]))\n",
        "    print(ytest.shape)\n",
        "    #Back to original\n",
        "    ytestHatSt = predict(parameters, xtestSt, activation)\n",
        "    ytestHat = ytestHatSt*stdY+meanY\n",
        "    plt.plot(X_test[:,1],ytestHat.T,'.',c='b',label='Prediction')\n",
        "    plt.plot(X_test[:,1], Y_test,'+',c = 'r', label='Given Data')\n",
        "    plt.legend()\n",
        "    plt.xlabel('feature-2')\n",
        "    plt.ylabel('Target')\n",
        "    plt.title('MLP regression on test data-Activation: Sigmoid+ no of neuron=9')\n",
        "\n",
        "if __name__ == \"__main__\":\n",
        "    main()"
      ],
      "metadata": {
        "colab": {
          "base_uri": "https://localhost:8080/",
          "height": 712
        },
        "id": "9bQa_ijUp9-R",
        "outputId": "a8323148-9388-4e7e-a113-42891e6c1bc0"
      },
      "execution_count": 88,
      "outputs": [
        {
          "output_type": "stream",
          "name": "stdout",
          "text": [
            "Cost after iteration 0: 0.973660\n",
            "Cost after iteration 500: 0.004469\n",
            "W1 = [[ 0.00642469 -0.03455454]\n",
            " [ 0.01157076  1.01195158]\n",
            " [ 0.05477365 -0.77883719]\n",
            " [-0.01567943  0.31347462]\n",
            " [ 0.05329887  0.14908257]\n",
            " [-0.09004706 -0.92808991]\n",
            " [ 0.12936809 -0.75768591]\n",
            " [ 0.02513053  0.29387828]\n",
            " [ 0.05523079  0.51919394]]\n",
            "b1 = [[ 0.00046169]\n",
            " [-0.04883495]\n",
            " [ 0.01796751]\n",
            " [ 0.0012884 ]\n",
            " [ 0.00266192]\n",
            " [ 0.02668366]\n",
            " [ 0.01908213]\n",
            " [ 0.00198907]\n",
            " [ 0.00060915]]\n",
            "W2 = [[-0.00409057  1.42038056 -0.91840009  0.33564111  0.18889857 -1.19556096\n",
            "  -0.88381881  0.3206572   0.59274614]]\n",
            "b2 = [[0.1035744]]\n",
            "(49, 1)\n"
          ]
        },
        {
          "output_type": "display_data",
          "data": {
            "text/plain": [
              "<Figure size 432x288 with 1 Axes>"
            ],
            "image/png": "[encoded data removed]"
          },
          "metadata": {
            "needs_background": "light"
          }
        }
      ]
    },
    {
      "cell_type": "code",
      "source": [
        "def main():\n",
        "    xtrain = np.array(X_train)\n",
        "    ytrain = np.array(Y_train)\n",
        "    xtest = np.array(X_test)\n",
        "    ytest = np.array(Y_test)\n",
        "    # take mean and standard deviation of features of the training set for standardization\n",
        "    meanX = np.mean(xtrain, axis=0)\n",
        "    stdX = np.std(xtrain, axis=0)\n",
        "    # standardize features of the trainig set\n",
        "    xtrainSt = (xtrain - meanX) / stdX\n",
        "    xtrainSt = xtrainSt.T\n",
        "    meanY = np.mean(ytrain, axis=0)\n",
        "    stdY = np.std(ytrain, axis=0)\n",
        "    ytrainSt = (ytrain - meanY) / stdY\n",
        "    ytrainSt = ytrainSt.T\n",
        "    xtestSt = (xtest - meanX) / stdX\n",
        "    xtestSt = xtestSt.T\n",
        "    ytestSt = (ytest - meanY) / stdY\n",
        "    ytestSt = ytestSt.T\n",
        "    epochs=1000\n",
        "    lr = 0.1\n",
        "    activation = \"tanh\"\n",
        "    print(activation)\n",
        "\n",
        "    parameters, cost_tot = MLP_model(xtrainSt, ytrainSt, 10, lr, activation,epochs, print_cost=True)\n",
        "    print(\"W1 = \" + str(parameters[\"W1\"]))\n",
        "    print(\"b1 = \" + str(parameters[\"b1\"]))\n",
        "    print(\"W2 = \" + str(parameters[\"W2\"]))\n",
        "    print(\"b2 = \" + str(parameters[\"b2\"]))\n",
        "    print(ytest.shape)\n",
        "    #Back to original\n",
        "    ytestHatSt = predict(parameters, xtestSt, activation)\n",
        "    ytestHat = ytestHatSt*stdY+meanY\n",
        "    plt.plot(X_test[:,1],ytestHat.T,'.',c='b',label='Prediction')\n",
        "    plt.plot(X_test[:,1], Y_test,'+',c = 'r', label='Given Data')\n",
        "    plt.legend()\n",
        "    plt.xlabel('feature-1')\n",
        "    plt.ylabel('Target')\n",
        "    plt.title('MLP regression on test data-Activation: ReLu+no of neuron=10')\n",
        "\n",
        "if __name__ == \"__main__\":\n",
        "    main()"
      ],
      "metadata": {
        "colab": {
          "base_uri": "https://localhost:8080/",
          "height": 764
        },
        "id": "4X8aiC6oqdwl",
        "outputId": "f7f965ac-f631-466a-eff0-a8dfebb4c36c"
      },
      "execution_count": 89,
      "outputs": [
        {
          "output_type": "stream",
          "name": "stdout",
          "text": [
            "tanh\n",
            "Cost after iteration 0: 0.900745\n",
            "Cost after iteration 500: 0.001906\n",
            "W1 = [[-0.06447766  0.19614216]\n",
            " [ 0.13188302 -0.21459151]\n",
            " [-0.08023539 -0.21736814]\n",
            " [ 0.03566971 -0.18389947]\n",
            " [-0.01588002 -0.32747043]\n",
            " [-0.01203456 -0.35439574]\n",
            " [-0.06935682 -0.34389243]\n",
            " [ 0.09294744 -0.27644784]\n",
            " [-0.03701547 -0.34874159]\n",
            " [-0.10508445  0.01694265]]\n",
            "b1 = [[ 0.00083701]\n",
            " [ 0.00198222]\n",
            " [-0.00572263]\n",
            " [-0.00200379]\n",
            " [ 0.00745353]\n",
            " [ 0.02591359]\n",
            " [ 0.00518216]\n",
            " [ 0.00693446]\n",
            " [ 0.01216668]\n",
            " [ 0.00078111]]\n",
            "W2 = [[ 0.22344161 -0.22208267 -0.22852045 -0.20995272 -0.49563583 -0.68387043\n",
            "  -0.5437287  -0.36693883 -0.56344351  0.02349077]]\n",
            "b2 = [[0.03066468]]\n",
            "(49, 1)\n"
          ]
        },
        {
          "output_type": "display_data",
          "data": {
            "text/plain": [
              "<Figure size 432x288 with 1 Axes>"
            ],
            "image/png": "[encoded data removed]"
          },
          "metadata": {
            "needs_background": "light"
          }
        }
      ]
    },
    {
      "cell_type": "code",
      "source": [
        "def main():\n",
        "    xtrain = np.array(X_train)\n",
        "    ytrain = np.array(Y_train)\n",
        "    xtest = np.array(X_test)\n",
        "    ytest = np.array(Y_test)\n",
        "    # take mean and standard deviation of features of the training set for standardization\n",
        "    meanX = np.mean(xtrain, axis=0)\n",
        "    stdX = np.std(xtrain, axis=0)\n",
        "    # standardize features of the trainig set\n",
        "    xtrainSt = (xtrain - meanX) / stdX\n",
        "    xtrainSt = xtrainSt.T\n",
        "    meanY = np.mean(ytrain, axis=0)\n",
        "    stdY = np.std(ytrain, axis=0)\n",
        "    ytrainSt = (ytrain - meanY) / stdY\n",
        "    ytrainSt = ytrainSt.T\n",
        "    xtestSt = (xtest - meanX) / stdX\n",
        "    xtestSt = xtestSt.T\n",
        "    ytestSt = (ytest - meanY) / stdY\n",
        "    ytestSt = ytestSt.T\n",
        "    epochs=1000\n",
        "    lr = 0.1\n",
        "    activation = \"sigmoid\"\n",
        "\n",
        "    parameters, cost_tot = MLP_model(xtrainSt, ytrainSt, 10, lr, activation,epochs, print_cost=True)\n",
        "    print(\"W1 = \" + str(parameters[\"W1\"]))\n",
        "    print(\"b1 = \" + str(parameters[\"b1\"]))\n",
        "    print(\"W2 = \" + str(parameters[\"W2\"]))\n",
        "    print(\"b2 = \" + str(parameters[\"b2\"]))\n",
        "    print(ytest.shape)\n",
        "    #Back to original\n",
        "    ytestHatSt = predict(parameters, xtestSt, activation)\n",
        "    ytestHat = ytestHatSt*stdY+meanY\n",
        "    plt.plot(X_test[:,1],ytestHat.T,'.',c='b',label='Prediction')\n",
        "    plt.plot(X_test[:,1], Y_test,'+',c = 'r', label='Given Data')\n",
        "    plt.legend()\n",
        "    plt.xlabel('feature-2')\n",
        "    plt.ylabel('Target')\n",
        "    plt.title('MLP regression on test data-Activation: Sigmoid+no of neuron=10')\n",
        "\n",
        "if __name__ == \"__main__\":\n",
        "    main()"
      ],
      "metadata": {
        "colab": {
          "base_uri": "https://localhost:8080/",
          "height": 746
        },
        "id": "8ngdD7Mjql9-",
        "outputId": "d3a5f135-6ccf-4567-aa02-e5633bd14f0f"
      },
      "execution_count": 90,
      "outputs": [
        {
          "output_type": "stream",
          "name": "stdout",
          "text": [
            "Cost after iteration 0: 0.984456\n",
            "Cost after iteration 500: 0.002983\n",
            "W1 = [[-0.08452406  0.21534147]\n",
            " [-0.09764402  0.81074539]\n",
            " [-0.16457196  0.02238096]\n",
            " [-0.0811232  -0.7850589 ]\n",
            " [ 0.04317266  0.23596569]\n",
            " [-0.24758425  0.13117532]\n",
            " [-0.21083073  0.59472609]\n",
            " [ 0.1145991   0.76464494]\n",
            " [-0.0262068  -0.9051901 ]\n",
            " [-0.08464319 -0.74609654]]\n",
            "b1 = [[-0.00128557]\n",
            " [-0.03045643]\n",
            " [ 0.0001902 ]\n",
            " [ 0.0195941 ]\n",
            " [-0.0011127 ]\n",
            " [-0.00068268]\n",
            " [-0.01479563]\n",
            " [-0.01611714]\n",
            " [ 0.03388359]\n",
            " [ 0.0161845 ]]\n",
            "W2 = [[ 0.20112193  0.98240921 -0.00469775 -0.9499876   0.23040991  0.14136131\n",
            "   0.6284075   0.9024081  -1.13480602 -0.87672991]]\n",
            "b2 = [[-0.02930173]]\n",
            "(49, 1)\n"
          ]
        },
        {
          "output_type": "display_data",
          "data": {
            "text/plain": [
              "<Figure size 432x288 with 1 Axes>"
            ],
            "image/png": "[encoded data removed]"
          },
          "metadata": {
            "needs_background": "light"
          }
        }
      ]
    },
    {
      "cell_type": "markdown",
      "source": [
        "7.(a)Since update rule need to multiply the derivativ of the activation functions, so we need to change the update rule based on activation function as well. \n",
        "\n",
        "(b)The change occurs in the backpropagation during chain rule and in forward propagation when we need to use a = g(z).So where we need to use the activation function and its derivative we need to change to achieve this experiement.\n",
        "\n",
        "(c)Based on the true label and the prediction we can tell that ReLu works slightly better for our given system compared to sigmoid and tanh. \n"
      ],
      "metadata": {
        "id": "pY0txGI62HQB"
      }
    },
    {
      "cell_type": "code",
      "source": [
        "def main():\n",
        "    xtrain = np.array(X_train)\n",
        "    ytrain = np.array(Y_train)\n",
        "    xtest = np.array(X_test)\n",
        "    ytest = np.array(Y_test)\n",
        "    # take mean and standard deviation of features of the training set for standardization\n",
        "    meanX = np.mean(xtrain, axis=0)\n",
        "    stdX = np.std(xtrain, axis=0)\n",
        "    # standardize features of the trainig set\n",
        "    xtrainSt = (xtrain - meanX) / stdX\n",
        "    xtrainSt = xtrainSt.T\n",
        "    meanY = np.mean(ytrain, axis=0)\n",
        "    stdY = np.std(ytrain, axis=0)\n",
        "    ytrainSt = (ytrain - meanY) / stdY\n",
        "    ytrainSt = ytrainSt.T\n",
        "    xtestSt = (xtest - meanX) / stdX\n",
        "    xtestSt = xtestSt.T\n",
        "    ytestSt = (ytest - meanY) / stdY\n",
        "    ytestSt = ytestSt.T\n",
        "    epochs=1000\n",
        "    lr = 0.1\n",
        "    activation = \"tanh\"\n",
        "\n",
        "    parameters, cost_tot = MLP_model(xtrainSt, ytrainSt, 5, lr, activation,epochs, print_cost=True)\n",
        "    print(\"W1 = \" + str(parameters[\"W1\"]))\n",
        "    print(\"b1 = \" + str(parameters[\"b1\"]))\n",
        "    print(\"W2 = \" + str(parameters[\"W2\"]))\n",
        "    print(\"b2 = \" + str(parameters[\"b2\"]))\n",
        "    print(ytest.shape)\n",
        "    #Back to original\n",
        "    ytestHatSt = predict(parameters, xtestSt, activation)\n",
        "    ytestHat = ytestHatSt*stdY+meanY\n",
        "    plt.plot(X_test[:,1],ytestHat.T,'.',c='b',label='Prediction')\n",
        "    plt.plot(X_test[:,1], Y_test,'+',c = 'r', label='Given Data')\n",
        "    plt.legend()\n",
        "    plt.xlabel('feature-2')\n",
        "    plt.ylabel('Target')\n",
        "    plt.title('MLP regression on test data-Activation: tanh+no of neuron=5')\n",
        "\n",
        "if __name__ == \"__main__\":\n",
        "    main()"
      ],
      "metadata": {
        "colab": {
          "base_uri": "https://localhost:8080/",
          "height": 555
        },
        "id": "GD1ouw8vuKvX",
        "outputId": "6e78a3bc-1d31-4c98-bfe6-c06f9a593868"
      },
      "execution_count": 92,
      "outputs": [
        {
          "output_type": "stream",
          "name": "stdout",
          "text": [
            "Cost after iteration 0: 1.025866\n",
            "Cost after iteration 500: 0.003202\n",
            "W1 = [[-0.10757329  0.28239369]\n",
            " [ 0.16735019  0.33105523]\n",
            " [-0.05606834  0.2649645 ]\n",
            " [ 0.0275629  -0.37638737]\n",
            " [-0.01960639 -0.37991485]]\n",
            "b1 = [[0.00326202]\n",
            " [0.024213  ]\n",
            " [0.00490792]\n",
            " [0.05804221]\n",
            " [0.00293377]]\n",
            "W2 = [[ 0.34810084  0.45663639  0.31035239 -1.17609046 -0.82366738]]\n",
            "b2 = [[0.05264949]]\n",
            "(49, 1)\n"
          ]
        },
        {
          "output_type": "display_data",
          "data": {
            "text/plain": [
              "<Figure size 432x288 with 1 Axes>"
            ],
            "image/png": "[encoded data removed]"
          },
          "metadata": {
            "needs_background": "light"
          }
        }
      ]
    },
    {
      "cell_type": "code",
      "source": [
        "xtrain = np.array(X_train)\n",
        "ytrain = np.array(Y_train)\n",
        "xtest = np.array(X_test)\n",
        "ytest = np.array(Y_test)\n",
        "# take mean and standard deviation of features of the training set for standardization\n",
        "meanX = np.mean(xtrain, axis=0)\n",
        "stdX = np.std(xtrain, axis=0)\n",
        "# standardize features of the trainig set\n",
        "xtrainSt = (xtrain - meanX) / stdX\n",
        "xtrainSt = xtrainSt.T\n",
        "meanY = np.mean(ytrain, axis=0)\n",
        "stdY = np.std(ytrain, axis=0)\n",
        "ytrainSt = (ytrain - meanY) / stdY\n",
        "ytrainSt = ytrainSt.T\n",
        "xtestSt = (xtest - meanX) / stdX\n",
        "xtestSt = xtestSt.T\n",
        "ytestSt = (ytest - meanY) / stdY\n",
        "ytestSt = ytestSt.T\n",
        "epochs=1000\n",
        "lr = 0.1\n",
        "activation = \"relu\"\n",
        "\n",
        "parameters, cost_tot = MLP_model(xtrainSt, ytrainSt, 5, lr, activation,epochs, print_cost=True)\n",
        "print(\"W1 = \" + str(parameters[\"W1\"]))\n",
        "print(\"b1 = \" + str(parameters[\"b1\"]))\n",
        "print(\"W2 = \" + str(parameters[\"W2\"]))\n",
        "print(\"b2 = \" + str(parameters[\"b2\"]))\n",
        "print(ytest.shape)\n",
        "#Back to original\n",
        "ytestHatSt = predict(parameters, xtestSt, activation)\n",
        "ytestHat = ytestHatSt*stdY+meanY\n",
        "plt.plot(X_test[:,1],ytestHat.T,'.',c='b',label='Prediction')\n",
        "plt.plot(X_test[:,1], Y_test,'+',c = 'r', label='Given Data')\n",
        "plt.legend()\n",
        "plt.xlabel('feature-2')\n",
        "plt.ylabel('Target')\n",
        "plt.title('MLP regression on test data-Activation: ReLu+no of neuron=5')"
      ],
      "metadata": {
        "colab": {
          "base_uri": "https://localhost:8080/",
          "height": 573
        },
        "id": "__BnjS3Yupio",
        "outputId": "033d9f5b-a3aa-4e9d-86e7-9f1e3919682e"
      },
      "execution_count": 91,
      "outputs": [
        {
          "output_type": "stream",
          "name": "stdout",
          "text": [
            "Cost after iteration 0: 1.015263\n",
            "Cost after iteration 500: 0.006115\n",
            "W1 = [[ 0.04020915 -0.94586691]\n",
            " [-0.07386688  0.91342734]\n",
            " [-0.02105605 -0.02521719]\n",
            " [ 0.19597062  0.21156462]\n",
            " [ 0.09358355  0.26330316]]\n",
            "b1 = [[-0.04701019]\n",
            " [ 0.04317357]\n",
            " [-0.01272592]\n",
            " [ 0.04471835]\n",
            " [ 0.38759357]]\n",
            "W2 = [[-0.9454832   0.92541552 -0.01869016  0.14111745  0.46521877]]\n",
            "b2 = [[-0.22549717]]\n",
            "(49, 1)\n"
          ]
        },
        {
          "output_type": "execute_result",
          "data": {
            "text/plain": [
              "Text(0.5, 1.0, 'MLP regression on test data-Activation: ReLu+no of neuron=5')"
            ]
          },
          "metadata": {},
          "execution_count": 91
        },
        {
          "output_type": "display_data",
          "data": {
            "text/plain": [
              "<Figure size 432x288 with 1 Axes>"
            ],
            "image/png": "[encoded data removed]"
          },
          "metadata": {
            "needs_background": "light"
          }
        }
      ]
    },
    {
      "cell_type": "code",
      "source": [],
      "metadata": {
        "id": "vHGBxwzr-yt_"
      },
      "execution_count": null,
      "outputs": []
    }
  ]
}