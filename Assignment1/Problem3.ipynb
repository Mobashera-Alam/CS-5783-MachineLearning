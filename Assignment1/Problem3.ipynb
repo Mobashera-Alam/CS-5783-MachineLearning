{
  "nbformat": 4,
  "nbformat_minor": 0,
  "metadata": {
    "colab": {
      "provenance": [],
      "collapsed_sections": [],
      "authorship_tag": "ABX9TyPpA3QsFR/RXJ1Hhxfz+GRS",
      "include_colab_link": true
    },
    "kernelspec": {
      "name": "python3",
      "display_name": "Python 3"
    },
    "language_info": {
      "name": "python"
    }
  },
  "cells": [
    {
      "cell_type": "markdown",
      "metadata": {
        "id": "view-in-github",
        "colab_type": "text"
      },
      "source": [
        "<a href=\"https://colab.research.google.com/github/Mobashera-Alam/CS-5783-MachineLearning/blob/main/Assignment1/Problem3.ipynb\" target=\"_parent\"><img src=\"https://colab.research.google.com/assets/colab-badge.svg\" alt=\"Open In Colab\"/></a>"
      ]
    },
    {
      "cell_type": "code",
      "execution_count": 1,
      "metadata": {
        "id": "uH8DyplWRC8m"
      },
      "outputs": [],
      "source": [
        "# Importing libraries\n",
        "\n",
        "import numpy as np\n",
        "\n",
        "import math\n",
        "\n",
        "import matplotlib.pyplot as plt\n"
      ]
    },
    {
      "cell_type": "code",
      "source": [
        "from google.colab import drive\n",
        "drive.mount('/content/drive')"
      ],
      "metadata": {
        "colab": {
          "base_uri": "https://localhost:8080/"
        },
        "id": "oZAlMXNTRO54",
        "outputId": "280c9bac-031b-4c6a-92bb-4d483200f83c"
      },
      "execution_count": 2,
      "outputs": [
        {
          "output_type": "stream",
          "name": "stdout",
          "text": [
            "Mounted at /content/drive\n"
          ]
        }
      ]
    },
    {
      "cell_type": "code",
      "source": [
        "x_train = np.load('/content/drive/My Drive/ML/Assignment_1/x_train.npy',encoding ='bytes')\n",
        "y_train =  np.load('/content/drive/My Drive/ML/Assignment_1/y_train.npy',encoding='bytes')\n",
        "x_test =  np.load('/content/drive/My Drive/ML/Assignment_1/x_test.npy',encoding='bytes')\n",
        "y_test =  np.load('/content/drive/My Drive/ML/Assignment_1/y_test.npy',encoding='bytes')"
      ],
      "metadata": {
        "id": "zw032CbqRRgb"
      },
      "execution_count": 3,
      "outputs": []
    },
    {
      "cell_type": "code",
      "source": [
        "# function to perform locally weighted linear regression\n",
        "def local_weighted_regression(x0, X, Y, tau):\n",
        "    # fit model: normal equations with kernel\n",
        "    x0 = np.r_[1, x0]\n",
        "    X = np.c_[np.ones(len(X)), X]\n",
        "    xw = X.T * weights_calculate(x0, X, tau)\n",
        "    theta = np.linalg.pinv(xw @ X) @ xw @ Y\n",
        "    # \"@\" is used to\n",
        "    # predict value\n",
        "    return x0 @ theta\n",
        " \n",
        "# function to perform weight calculation\n",
        "def weights_calculate(x0, X, tau):\n",
        "    return np.exp(np.sum((X - x0) ** 2, axis=1) / (-2 * (tau **2) ))\n",
        "# plot locally weighted regression for different bandwidth values\n",
        "def plot_lwr(tau):\n",
        "    # prediction\n",
        "    domain = np.linspace(-3, 3, num=300)\n",
        "    prediction = [local_weighted_regression(x0, X, Y, tau) for x0 in domain]\n",
        "    \n",
        "    plot1 = plt.plot(X, Y,'o', label='Training data' )\n",
        "    plot2 = plt.plot(domain, prediction,'+', color= 'blue',label= 'Prediction(tau=0.1)')\n",
        "    return plot1, plot2\n",
        "def plot_lwr1(tau):\n",
        "    # prediction\n",
        "    domain = np.linspace(-3, 3, num=300)\n",
        "    prediction = [local_weighted_regression(x0, X, Y, tau) for x0 in domain]\n",
        "    \n",
        "    #plot1 = plt.plot(X, Y,'o', label='Training data' )\n",
        "    plot2 = plt.plot(domain, prediction,'*',color='red', label= 'Prediction(tau=0.01)')\n",
        "    return  plot2\n",
        "#define distribution\n",
        "n = 1000\n",
        "x0 = np.linspace(-3,3,300)\n",
        "X = x_train\n",
        "Y = y_train\n",
        "plot_lwr(0.1)\n",
        "plot_lwr1(0.01)\n",
        "plt.title('Training Phase')\n",
        "plt.xlabel('X')\n",
        "plt.ylabel('Y')\n",
        "plt.legend()\n",
        "#plt.plot(x_test, y_test,'o')\n",
        "#plt.plot(x_test, y_pred, '+')"
      ],
      "metadata": {
        "colab": {
          "base_uri": "https://localhost:8080/",
          "height": 312
        },
        "id": "h9SBDz5fRTv4",
        "outputId": "1d603336-7ea2-43f4-9094-a3d08595968e"
      },
      "execution_count": 10,
      "outputs": [
        {
          "output_type": "execute_result",
          "data": {
            "text/plain": [
              "<matplotlib.legend.Legend at 0x7f8df9b8f8d0>"
            ]
          },
          "metadata": {},
          "execution_count": 10
        },
        {
          "output_type": "display_data",
          "data": {
            "text/plain": [
              "<Figure size 432x288 with 1 Axes>"
            ],
            "image/png": "[encoded data removed]"
          },
          "metadata": {
            "needs_background": "light"
          }
        }
      ]
    },
    {
      "cell_type": "code",
      "source": [
        "# function to perform locally weighted linear regression\n",
        "def local_weighted_regression(x0, X, Y, tau):\n",
        "    x0 = np.r_[1, x0]\n",
        "    X = np.c_[np.ones(len(X)), X]\n",
        "    xw = X.T * weights_calculate(x0, X, tau)\n",
        "    theta = np.linalg.pinv(xw @ X) @ xw @ Y\n",
        "    # \"@\" is used to\n",
        "    # predict value\n",
        "    return x0 @ theta\n",
        " \n",
        "# function to perform weight calculation\n",
        "def weights_calculate(x0, X, tau):\n",
        "    return np.exp(np.sum((X - x0) ** 2, axis=1) / (-2 * (tau **2) ))\n",
        "# plot locally weighted regression for different bandwidth values\n",
        "def plot_lwr(tau):\n",
        "    # prediction\n",
        "    domain = np.linspace(-1, 1, num=300)\n",
        "    prediction = [local_weighted_regression(x0, X, Y, tau) for x0 in domain]\n",
        "    plot1 = plt.plot(X, Y,'o' , label='Test data')\n",
        "    plot2 = plt.plot(domain, prediction,'+', color='red', label = 'Prediction(tau=0.1)')\n",
        "    return plot1, plot2\n",
        "def plot_lwr1(tau):\n",
        "    # prediction\n",
        "    domain = np.linspace(-1, 1, num=300)\n",
        "    prediction = [local_weighted_regression(x0, X, Y, tau) for x0 in domain]\n",
        "    \n",
        "    #plot1 = plt.plot(X, Y,'o', label='Training data' )\n",
        "    plot2 = plt.plot(domain, prediction,'*',color='red', label= 'Prediction(tau=0.01)')\n",
        "    return  plot2\n",
        "#define distribution\n",
        "n = 20\n",
        "x0 = np.linspace(-1, 1, num=n)\n",
        "X = x_test\n",
        "Y = y_test\n",
        "plot_lwr(0.1)\n",
        "plot_lwr1(0.01)\n",
        "plt.title('Test Phase')\n",
        "plt.xlabel('X')\n",
        "plt.ylabel('Y')\n",
        "plt.legend()"
      ],
      "metadata": {
        "colab": {
          "base_uri": "https://localhost:8080/",
          "height": 312
        },
        "id": "xNwDlqN2ioVO",
        "outputId": "68e2dcd4-1fb1-4df5-fc04-5f55b66b85e2"
      },
      "execution_count": 12,
      "outputs": [
        {
          "output_type": "execute_result",
          "data": {
            "text/plain": [
              "<matplotlib.legend.Legend at 0x7f8df9b0ea50>"
            ]
          },
          "metadata": {},
          "execution_count": 12
        },
        {
          "output_type": "display_data",
          "data": {
            "text/plain": [
              "<Figure size 432x288 with 1 Axes>"
            ],
            "image/png": "[encoded data removed]"
          },
          "metadata": {
            "needs_background": "light"
          }
        }
      ]
    },
    {
      "cell_type": "markdown",
      "source": [
        "1.No,we donot need basis function using locally weighted approach. \n",
        "2. This method doesnot require training rather it is an instantaneous process based on previous data it predicts the desired point. It keeps updating the parameters based on the future data. So it requires all previous data everytime it predicts some test data. For linear regression we can use basis function where we can update the values once we trained up our model(doesnot require these data for future prediction) "
      ],
      "metadata": {
        "id": "arFwN72iv-AS"
      }
    }
  ]
}