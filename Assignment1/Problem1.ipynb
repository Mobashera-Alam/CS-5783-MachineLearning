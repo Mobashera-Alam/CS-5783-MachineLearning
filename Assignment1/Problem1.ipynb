{
  "nbformat": 4,
  "nbformat_minor": 0,
  "metadata": {
    "colab": {
      "provenance": [],
      "collapsed_sections": [],
      "include_colab_link": true
    },
    "kernelspec": {
      "name": "python3",
      "display_name": "Python 3"
    },
    "language_info": {
      "name": "python"
    }
  },
  "cells": [
    {
      "cell_type": "markdown",
      "metadata": {
        "id": "view-in-github",
        "colab_type": "text"
      },
      "source": [
        "<a href=\"https://colab.research.google.com/github/Mobashera-Alam/CS-5783-MachineLearning/blob/main/Assignment1/Problem1.ipynb\" target=\"_parent\"><img src=\"https://colab.research.google.com/assets/colab-badge.svg\" alt=\"Open In Colab\"/></a>"
      ]
    },
    {
      "cell_type": "code",
      "execution_count": 1,
      "metadata": {
        "id": "z9DNiRueKwfH"
      },
      "outputs": [],
      "source": [
        "# Importing libraries\n",
        "\n",
        "import numpy as np\n",
        "\n",
        "import math\n",
        "\n",
        "import matplotlib.pyplot as plt\n"
      ]
    },
    {
      "cell_type": "code",
      "source": [
        "from google.colab import drive\n",
        "drive.mount('/content/drive')"
      ],
      "metadata": {
        "colab": {
          "base_uri": "https://localhost:8080/"
        },
        "id": "YEA39FbeK0NP",
        "outputId": "a3d254de-470b-4250-d078-762e1a6cf842"
      },
      "execution_count": 4,
      "outputs": [
        {
          "output_type": "stream",
          "name": "stdout",
          "text": [
            "Mounted at /content/drive\n"
          ]
        }
      ]
    },
    {
      "cell_type": "code",
      "source": [
        "x_train = np.load('/content/drive/My Drive/ML/Assignment_1/x_train.npy',encoding ='bytes')\n",
        "y_train =  np.load('/content/drive/My Drive/ML/Assignment_1/y_train.npy',encoding='bytes')\n",
        "x_test =  np.load('/content/drive/My Drive/ML/Assignment_1/x_test.npy',encoding='bytes')\n",
        "y_test =  np.load('/content/drive/My Drive/ML/Assignment_1/y_test.npy',encoding='bytes')"
      ],
      "metadata": {
        "id": "dkajO9TkK4CW"
      },
      "execution_count": 5,
      "outputs": []
    },
    {
      "cell_type": "code",
      "source": [
        "# Univariate Polynomial Regression\n",
        "\n",
        "class PolynomailRegression() :\n",
        " \n",
        " def __init__( self, degree, learning_rate, iterations ) :\n",
        "  \n",
        "  self.degree = degree\n",
        "  \n",
        "  self.learning_rate = learning_rate\n",
        "  \n",
        "  self.iterations = iterations\n",
        "\n",
        "  \n",
        " # function to transform X\n",
        " \n",
        " def transform( self, X ) :\n",
        "  \n",
        "  # initialize X_transform\n",
        "  \n",
        "  X_transform = np.ones( ( self.m, 1 ) )\n",
        "  \n",
        "  j = 0\n",
        " \n",
        "  for j in range( self.degree + 1 ) :\n",
        "   \n",
        "   if j != 0 :\n",
        "    \n",
        "    x_pow = np.power( X, j )\n",
        "    \n",
        "    # append x_pow to X_transform\n",
        "    \n",
        "    X_transform = np.append( X_transform, x_pow.reshape( -1, 1 ), axis = 1 )\n",
        "\n",
        "  return X_transform  \n",
        " \n",
        " # function to normalize X_transform\n",
        " \n",
        " def normalize( self, X ) :\n",
        "  \n",
        "  X[:, 1:] = ( X[:, 1:] - np.mean( X[:, 1:], axis = 0 ) ) / np.std( X[:, 1:], axis = 0 )\n",
        "  \n",
        "  return X\n",
        "  \n",
        " # model training\n",
        " \n",
        " def fit( self, X, Y ) :\n",
        "  \n",
        "  self.X = X\n",
        " \n",
        "  self.Y = Y\n",
        " \n",
        "  self.m, self.n = self.X.shape\n",
        " \n",
        "  # weight initialization\n",
        " \n",
        "  self.W = np.zeros( self.degree +1)\n",
        "  \n",
        "  # transform X for polynomial h( x ) = w0 * x^0 + w1 * x^1 + w2 * x^2 + ........+ wn * x^n\n",
        "  \n",
        "  X_transform = self.transform( self.X )\n",
        "  \n",
        "  # normalize X_transform\n",
        "  \n",
        "  X_normalize = self.normalize( X_transform )\n",
        "  # gradient descent learning\n",
        " \n",
        "  for i in range( self.iterations ) :\n",
        "   \n",
        "   h = self.predict( self.X )\n",
        "  \n",
        "   error = h - self.Y\n",
        "   # update weights\n",
        "  \n",
        "   self.W = self.W - self.learning_rate * ( 1 / self.m ) * np.dot( X_normalize.T, error )\n",
        "  \n",
        "  return self\n",
        " # predict\n",
        " \n",
        " def predict( self, X ) :\n",
        " \n",
        "  # transform X for polynomial h( x ) = w0 * x^0 + w1 * x^1 + w2 * x^2 + ........+ wn * x^n\n",
        "  \n",
        "  X_transform = self.transform( X )\n",
        "  \n",
        "  X_normalize = self.normalize( X_transform )\n",
        "  \n",
        "  return np.dot( X_transform, self.W )\n",
        " \n",
        " \n",
        "# Driver code \n",
        "\n",
        "def main() :\n",
        " \n",
        " # Create dataset\n",
        " \n",
        " X = x_train\n",
        " \n",
        " Y = y_train\n",
        "\n",
        " # model training-using two different model with different degrees of polinomial function\n",
        " \n",
        " model = PolynomailRegression( degree = 2,  learning_rate = 0.01, iterations = 1500 )\n",
        " model1 = PolynomailRegression( degree = 6,learning_rate = 0.01, iterations = 1500 )\n",
        "\n",
        " model.fit( X, Y )\n",
        " model1.fit(X,Y)\n",
        " # Prediction on training set\n",
        "\n",
        " Y_pred = model.predict( X )\n",
        " Y_pred1 = model1.predict(X)\n",
        " # Visualization\n",
        " \n",
        " fig,ax = plt.subplots(2,1)\n",
        " ax[0].plot( X, Y,  '*', label = 'Training data' )\n",
        " \n",
        " ax[0].plot( X, Y_pred, '+', label='2nd order pol' )\n",
        " ax[0].plot(X,Y_pred1, '.', label = '6th order pol')\n",
        " \n",
        " ax[0].set_title( 'Training Phase' )\n",
        " \n",
        " ax[0].set_xlabel( 'X' )\n",
        " \n",
        " ax[0].set_ylabel( 'Y' )\n",
        " ax[0].legend()\n",
        " ax[1].plot(X,Y-Y_pred, '+', label = 'Error-model-1')\n",
        " ax[1].plot(X,Y-Y_pred1, '.', label = 'Error-model-2')\n",
        " \n",
        " ax[1].set_xlabel( 'X' )\n",
        " \n",
        " ax[1].set_ylabel( 'Local Error' )   #Local error = Training/Test Data - Prediction\n",
        " ax[1].legend()\n",
        " plt.show()\n",
        " print('Mean square error model-1:', ((Y - Y_pred) ** 2).mean(axis=None))\n",
        " print('Mean square error model-2:', ((Y - Y_pred1) ** 2).mean(axis=None))\n",
        "\n",
        "\n",
        "\n",
        "if __name__ == \"__main__\" :\n",
        " \n",
        " main()"
      ],
      "metadata": {
        "colab": {
          "base_uri": "https://localhost:8080/",
          "height": 330
        },
        "id": "QC1BoXqUVnHr",
        "outputId": "cc78d88d-742a-4950-bfd1-07a356494bd1"
      },
      "execution_count": 6,
      "outputs": [
        {
          "output_type": "display_data",
          "data": {
            "text/plain": [
              "<Figure size 432x288 with 2 Axes>"
            ],
            "image/png": "[encoded data removed]"
          },
          "metadata": {
            "needs_background": "light"
          }
        },
        {
          "output_type": "stream",
          "name": "stdout",
          "text": [
            "Mean square error model-1: 169.33131794385173\n",
            "Mean square error model-2: 49.67165651563685\n"
          ]
        }
      ]
    },
    {
      "cell_type": "code",
      "source": [
        "\n",
        "# Univariate Polynomial Regression\n",
        "\n",
        "class PolynomailRegression() :\n",
        " \n",
        " def __init__( self, degree, exp_degree, learning_rate, iterations ) :\n",
        "  \n",
        "  self.degree = degree\n",
        "  \n",
        "  self.learning_rate = learning_rate\n",
        "  \n",
        "  self.iterations = iterations\n",
        "  self.exp_degree = exp_degree\n",
        "  \n",
        " # function to transform X\n",
        " \n",
        " def transform( self, X ) :\n",
        "  \n",
        "  # initialize X_transform\n",
        "  \n",
        "  X_transform = np.ones( ( self.m, 1 ) )\n",
        "  \n",
        "  j = 0\n",
        " \n",
        "  for j in range( self.degree + 1 ) :\n",
        "   \n",
        "   if j != 0 :\n",
        "    \n",
        "    x_pow = np.power( X, j )\n",
        "    \n",
        "    # append x_pow to X_transform\n",
        "    \n",
        "    X_transform = np.append( X_transform, x_pow.reshape( -1, 1 ), axis = 1 )\n",
        "\n",
        "  for k in range(0,self.exp_degree+1):\n",
        "    if k != 0 :\n",
        "      exponential = np.exp(k*X)\n",
        "      X_transform = np.append(X_transform,exponential.reshape(-1,1), axis=1)   #along with polinomial we took exponential function to check the performance on training\n",
        "\n",
        "  return X_transform  \n",
        " \n",
        " # function to normalize X_transform\n",
        " \n",
        " def normalize( self, X ) :\n",
        "  \n",
        "  X[:, 1:] = ( X[:, 1:] - np.mean( X[:, 1:], axis = 0 ) ) / np.std( X[:, 1:], axis = 0 )\n",
        "  \n",
        "  return X\n",
        "  \n",
        " # model training\n",
        " \n",
        " def fit( self, X, Y ) :\n",
        "  \n",
        "  self.X = X\n",
        " \n",
        "  self.Y = Y\n",
        " \n",
        "  self.m, self.n = self.X.shape\n",
        " \n",
        "  # weight initialization\n",
        " \n",
        "  self.W = np.zeros( self.degree +self.exp_degree+1)\n",
        "  \n",
        "  # transform X for polynomial h( x ) = w0 * x^0 + w1 * x^1 + w2 * x^2 + ........+ wn * x^n\n",
        "  \n",
        "  X_transform = self.transform( self.X )\n",
        "  \n",
        "  # normalize X_transform\n",
        "  \n",
        "  X_normalize = self.normalize( X_transform )\n",
        "    \n",
        "  # gradient descent learning\n",
        " \n",
        "  for i in range( self.iterations ) :\n",
        "   \n",
        "   h = self.predict( self.X )\n",
        "  \n",
        "   error = h - self.Y\n",
        "   \n",
        "   # update weights\n",
        "  \n",
        "   self.W = self.W - self.learning_rate * ( 1 / self.m ) * np.dot( X_normalize.T, error )\n",
        "  \n",
        "  return self\n",
        " \n",
        " # predict\n",
        " \n",
        " def predict( self, X ) :\n",
        " \n",
        "  # transform X for polynomial h( x ) = w0 * x^0 + w1 * x^1 + w2 * x^2 + ........+ wn * x^n\n",
        "  \n",
        "  X_transform = self.transform( X )\n",
        "  \n",
        "  X_normalize = self.normalize( X_transform )\n",
        "  \n",
        "  return np.dot( X_transform, self.W )\n",
        " \n",
        " \n",
        "# Driver code \n",
        "\n",
        "def main() :\n",
        " \n",
        " # Create dataset\n",
        " \n",
        " X = x_train\n",
        " \n",
        " Y = y_train\n",
        "\n",
        " # model training\n",
        " \n",
        " model = PolynomailRegression( degree = 2, exp_degree = 40, learning_rate = 0.01, iterations = 1500 )\n",
        " model1 = PolynomailRegression( degree = 6,exp_degree=4, learning_rate = 0.01, iterations = 1500 )\n",
        "\n",
        " model.fit( X, Y )\n",
        " model1.fit(X,Y)\n",
        " # Prediction on training set\n",
        "\n",
        " Y_pred = model.predict( X )\n",
        " Y_pred1 = model1.predict(X)\n",
        " # Visualization\n",
        " fig,ax = plt.subplots(2,1)\n",
        " ax[0].plot( X, Y,  '*', label = 'Training data' )\n",
        " \n",
        " ax[0].plot( X, Y_pred, '+', label='2nd order pol+ 40th order exp' )\n",
        " ax[0].plot(X,Y_pred1, '.', label = '6th order pol + 4th order exp')\n",
        " \n",
        " ax[0].set_title( 'Training Phase' )\n",
        " \n",
        " ax[0].set_xlabel( 'X' )\n",
        " \n",
        " ax[0].set_ylabel( 'Y' )\n",
        " ax[0].legend()\n",
        " ax[1].plot(X,Y-Y_pred, '+', label = 'Error-model-1')\n",
        " ax[1].plot(X,Y-Y_pred1, '.', label = 'Error-model-2')\n",
        " \n",
        " ax[1].set_xlabel( 'X' )\n",
        " \n",
        " ax[1].set_ylabel( 'Local Error' )\n",
        " ax[1].legend()\n",
        " plt.show()\n",
        " print('Mean square error model-1:', ((Y - Y_pred) ** 2).mean(axis=None))\n",
        " print('Mean square error model-2:', ((Y - Y_pred1) ** 2).mean(axis=None))\n",
        "\n",
        "if __name__ == \"__main__\" :\n",
        " \n",
        " main()\n"
      ],
      "metadata": {
        "colab": {
          "base_uri": "https://localhost:8080/",
          "height": 330
        },
        "id": "tLD2mKQQKxVh",
        "outputId": "9c8c0891-f7e6-42f3-cb1f-056beab0ea3f"
      },
      "execution_count": 7,
      "outputs": [
        {
          "output_type": "display_data",
          "data": {
            "text/plain": [
              "<Figure size 432x288 with 2 Axes>"
            ],
            "image/png": "[encoded data removed]"
          },
          "metadata": {
            "needs_background": "light"
          }
        },
        {
          "output_type": "stream",
          "name": "stdout",
          "text": [
            "Mean square error model-1: 71.04220701258114\n",
            "Mean square error model-2: 28.484430261778243\n"
          ]
        }
      ]
    },
    {
      "cell_type": "code",
      "source": [
        "class PolynomailRegression() :\n",
        " \n",
        " def __init__( self, degree, exp_degree, learning_rate, iterations ) :\n",
        "  \n",
        "  self.degree = degree\n",
        "  \n",
        "  self.learning_rate = learning_rate\n",
        "  \n",
        "  self.iterations = iterations\n",
        "  self.exp_degree = exp_degree\n",
        "  \n",
        " # function to transform X\n",
        " \n",
        " def transform( self, X ) :\n",
        "  \n",
        "  # initialize X_transform\n",
        "  \n",
        "  X_transform = np.ones( ( self.m, 1 ) )\n",
        "  \n",
        "  j = 0\n",
        " \n",
        "  for j in range( self.degree + 1 ) :\n",
        "   \n",
        "   if j != 0 :\n",
        "    \n",
        "    x_pow = np.power( X, j )\n",
        "    \n",
        "    # append x_pow to X_transform\n",
        "    \n",
        "    X_transform = np.append( X_transform, x_pow.reshape( -1, 1 ), axis = 1 )\n",
        "\n",
        "  for k in range(0,self.exp_degree+1):\n",
        "    if k != 0 :\n",
        "      sinusoidal = np.sin(k*X)             # now we are combining sin function with the polinomials\n",
        "      X_transform = np.append(X_transform,sinusoidal.reshape(-1,1), axis=1)\n",
        "\n",
        "  return X_transform  \n",
        " \n",
        " # function to normalize X_transform\n",
        " \n",
        " def normalize( self, X ) :\n",
        "  \n",
        "  X[:, 1:] = ( X[:, 1:] - np.mean( X[:, 1:], axis = 0 ) ) / np.std( X[:, 1:], axis = 0 )\n",
        "  \n",
        "  return X\n",
        "  \n",
        " # model training\n",
        " \n",
        " def fit( self, X, Y ) :\n",
        "  \n",
        "  self.X = X\n",
        " \n",
        "  self.Y = Y\n",
        " \n",
        "  self.m, self.n = self.X.shape\n",
        " \n",
        "  # weight initialization\n",
        " \n",
        "  self.W = np.zeros( self.degree +self.exp_degree+1)\n",
        "  \n",
        "  # transform X for polynomial h( x ) = w0 * x^0 + w1 * x^1 + w2 * x^2 + ........+ wn * x^n\n",
        "  \n",
        "  X_transform = self.transform( self.X )\n",
        "  \n",
        "  # normalize X_transform\n",
        "  \n",
        "  X_normalize = self.normalize( X_transform )\n",
        "    \n",
        "  # gradient descent learning\n",
        "  for i in range( self.iterations ) :\n",
        "   \n",
        "   h = self.predict( self.X )\n",
        "  \n",
        "   error = h - self.Y\n",
        "   \n",
        "   # update weights\n",
        "  \n",
        "   self.W = self.W - self.learning_rate * ( 1 / self.m ) * np.dot( X_normalize.T, error )\n",
        "  \n",
        "  return self\n",
        " \n",
        " # predict\n",
        " \n",
        " def predict( self, X ) :\n",
        " \n",
        "  # transform X for polynomial h( x ) = w0 * x^0 + w1 * x^1 + w2 * x^2 + ........+ wn * x^n\n",
        "  \n",
        "  X_transform = self.transform( X )\n",
        "  \n",
        "  X_normalize = self.normalize( X_transform )\n",
        "  \n",
        "  return np.dot( X_transform, self.W )\n",
        " \n",
        " \n",
        "# Driver code \n",
        "\n",
        "def main() :\n",
        " \n",
        " # Create dataset\n",
        " \n",
        " X = x_train\n",
        " \n",
        " Y = y_train\n",
        "\n",
        " # model training\n",
        " \n",
        " model = PolynomailRegression( degree = 2, exp_degree = 30, learning_rate = 0.01, iterations = 1500 )\n",
        " model1 = PolynomailRegression( degree = 6,exp_degree=4, learning_rate = 0.01, iterations = 1500 )                \n",
        "\n",
        " model.fit( X, Y )\n",
        " model1.fit(X,Y)\n",
        " # Prediction on training set\n",
        "\n",
        " Y_pred = model.predict( X )\n",
        " Y_pred1 = model1.predict(X)\n",
        " # Visualization\n",
        " fig,ax = plt.subplots(2,1)\n",
        " ax[0].plot( X, Y,  '*', label = 'Training data' )\n",
        " \n",
        " ax[0].plot( X, Y_pred, '+', label='2nd order pol+ sin(ax); a=1,2,3...30' )\n",
        " ax[0].plot(X,Y_pred1, '.', label = '6th order pol + sin(ax); a = 1,2,..4')\n",
        " \n",
        " ax[0].set_title( 'Training Phase' )\n",
        " \n",
        " ax[0].set_xlabel( 'X' )\n",
        " \n",
        " ax[0].set_ylabel( 'Y' )\n",
        " ax[0].legend()\n",
        " ax[1].plot(X,Y-Y_pred, '+', label = 'Error-model-1')\n",
        " ax[1].plot(X,Y-Y_pred1, '.', label = 'Error-model-2')\n",
        " \n",
        " ax[1].set_xlabel( 'X' )\n",
        " \n",
        " ax[1].set_ylabel( 'Local Error' )\n",
        " ax[1].legend()\n",
        " plt.show()\n",
        " print('Mean square error model-1:', ((Y - Y_pred) ** 2).mean(axis=None))\n",
        " print('Mean square error model-2:', ((Y - Y_pred1) ** 2).mean(axis=None)) \n",
        "\n",
        "if __name__ == \"__main__\" :\n",
        " \n",
        " main()"
      ],
      "metadata": {
        "colab": {
          "base_uri": "https://localhost:8080/",
          "height": 330
        },
        "id": "bSl1wMJHU_Iz",
        "outputId": "a1637a99-cdd7-4bad-9967-a9250300a05d"
      },
      "execution_count": 8,
      "outputs": [
        {
          "output_type": "display_data",
          "data": {
            "text/plain": [
              "<Figure size 432x288 with 2 Axes>"
            ],
            "image/png": "[encoded data removed]"
          },
          "metadata": {
            "needs_background": "light"
          }
        },
        {
          "output_type": "stream",
          "name": "stdout",
          "text": [
            "Mean square error model-1: 0.5523120106192924\n",
            "Mean square error model-2: 0.9860395981545836\n"
          ]
        }
      ]
    },
    {
      "cell_type": "markdown",
      "source": [
        "Based on the training data performance, we took the combination of polinomial and sine (3rd model) as the basis function and checked the performance on the test data."
      ],
      "metadata": {
        "id": "6d17XTPBV-Fd"
      }
    },
    {
      "cell_type": "code",
      "source": [
        "# Driver code \n",
        "\n",
        "def main() :\n",
        " \n",
        " # Create dataset\n",
        " \n",
        " X = x_train\n",
        " \n",
        " Y = y_train\n",
        "\n",
        " # model training\n",
        " \n",
        " model = PolynomailRegression( degree = 2, exp_degree = 30, learning_rate = 0.01, iterations = 1500 )\n",
        " model1 = PolynomailRegression( degree = 6,exp_degree=4, learning_rate = 0.01, iterations = 1500 )                \n",
        "\n",
        " model.fit( X, Y )\n",
        " model1.fit(X,Y)\n",
        " # Prediction on test set\n",
        "\n",
        " Y_pred = model.predict( x_test)\n",
        " Y_pred1 = model1.predict(x_test)\n",
        " # Visualization\n",
        " \n",
        " fig,ax = plt.subplots(2,1)\n",
        " ax[0].plot( x_test, y_test,  '*', label = 'Test data' )\n",
        " \n",
        " ax[0].plot( x_test, Y_pred, '+', label='2nd order pol+ sin(ax); a=1,2,3...30' )\n",
        " ax[0].plot(x_test,Y_pred1, '.', label = '6th order pol + sin(ax); a = 1,2,..4')\n",
        " \n",
        " ax[0].set_title( 'Test Phase' )\n",
        " \n",
        " ax[0].set_xlabel( 'X' )\n",
        " \n",
        " ax[0].set_ylabel( 'Y' )\n",
        " ax[0].legend()\n",
        " y_test1 = y_test.reshape(100)\n",
        " ax[1].plot(x_test,y_test1-Y_pred,'+', label = 'model-1')\n",
        " ax[1].plot(x_test,y_test1-Y_pred1, '.', label = 'model-2')\n",
        " ax[1].set_xlabel('X')\n",
        " ax[1].set_ylabel('Local Error')\n",
        " ax[1].legend()\n",
        " plt.show()\n",
        " print('Mean square error model-1:', ((y_test1 - Y_pred) ** 2).mean(axis=None))\n",
        " print('Mean square error model-2:', ((y_test1 - Y_pred1) ** 2).mean(axis=None))\n",
        "if __name__ == \"__main__\" :\n",
        " \n",
        " main()"
      ],
      "metadata": {
        "colab": {
          "base_uri": "https://localhost:8080/",
          "height": 330
        },
        "id": "Iuhmo2arVMHD",
        "outputId": "6c5bc1f0-ba30-4224-f7f5-8157031aeab2"
      },
      "execution_count": null,
      "outputs": [
        {
          "output_type": "display_data",
          "data": {
            "text/plain": [
              "<Figure size 432x288 with 2 Axes>"
            ],
            "image/png": "[encoded data removed]"
          },
          "metadata": {
            "needs_background": "light"
          }
        },
        {
          "output_type": "stream",
          "name": "stdout",
          "text": [
            "Mean square error model-1: 2.095571764971753\n",
            "Mean square error model-2: 305.5796618466716\n"
          ]
        }
      ]
    },
    {
      "cell_type": "markdown",
      "source": [
        "1. After visualizing test data, we got the clue that sinusoidals are required in the features. So we added sin function with our polinomials and obtained pretty accurate results in training set(Local error less than 5 and Mean square error than 1) First we normalized our data with the mean and standard deviation for better performance. \n",
        "2.(a) No the relationship is not linear. \n",
        "(b) Yes, we need feature engineering for adding non-linearity.\n",
        "(i) Since both the train and test set is nonlinear, polinomial function is required, so I used several combinations of polinomials, exponentials and sinusoidals to fit the train set.  \n",
        "  (ii)I tried three different set of feature engineering:[1]polinomials, [2]polinomials+exponentials, [3] polinomials +sinusoidals. I tried to combine different features in the bases to come up with the best possible result with least complexity(weights). \n",
        "Based on the performance on training set we tried our model in test set and obtained mean square error of 2.096 for basis= x+x2+sinx+.....sin(30x)\n"
      ],
      "metadata": {
        "id": "ExkWfYQ3mlQJ"
      }
    }
  ]
}