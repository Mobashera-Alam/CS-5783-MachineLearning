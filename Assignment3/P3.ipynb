{
  "nbformat": 4,
  "nbformat_minor": 0,
  "metadata": {
    "colab": {
      "provenance": [],
      "collapsed_sections": [],
      "authorship_tag": "ABX9TyOex7ysX/Lb1eooibJnIPfN",
      "include_colab_link": true
    },
    "kernelspec": {
      "name": "python3",
      "display_name": "Python 3"
    },
    "language_info": {
      "name": "python"
    }
  },
  "cells": [
    {
      "cell_type": "markdown",
      "metadata": {
        "id": "view-in-github",
        "colab_type": "text"
      },
      "source": [
        "<a href=\"https://colab.research.google.com/github/Mobashera-Alam/CS-5783-MachineLearning/blob/main/Assignment3/P3.ipynb\" target=\"_parent\"><img src=\"https://colab.research.google.com/assets/colab-badge.svg\" alt=\"Open In Colab\"/></a>"
      ]
    },
    {
      "cell_type": "markdown",
      "source": [
        "1. Dimension of input is 6*6*1 and dimension of Kernel is 3X3X1. \n",
        "No of parameters in the kernel = 3X3X1+1 = 10\n",
        "2. Output activation map = (W1-F+2P)/S +1 = 4X4X1 (no padding,P =0, S=1,W1=6,F=3)\n",
        "\n",
        "3. Output after maxpooling = (W1-F)/S +1= 2X2X1    (W1=4,F=3,S=1)\n"
      ],
      "metadata": {
        "id": "yfKIs-PotwCw"
      }
    },
    {
      "cell_type": "code",
      "source": [
        "#2\n",
        "\n",
        "from datetime import datetime\n",
        "from packaging import version\n",
        "\n",
        "import tensorflow as tf\n",
        "from tensorflow import keras\n",
        "\n",
        "import tensorboard\n",
        "import matplotlib.pyplot as plt\n",
        "\n",
        "import numpy as np"
      ],
      "metadata": {
        "id": "8XkBD8MRhWio"
      },
      "execution_count": 70,
      "outputs": []
    },
    {
      "cell_type": "code",
      "source": [
        "#Problem 2\n",
        "#input\n",
        "x =[[7,5,0,0,3,2],[6,4,5,1,4,8],[9,0,2,2,5,4],[6,3,4,7,9,8],[5,7,5,6,9,0],[7,9,0,8,2,3]]\n",
        "x = np.array(x)\n",
        "print(x.shape)\n",
        "\n",
        "#Kernel\n",
        "f = [[1,0,-1],[2,0,-2],[1,0,-1]]\n",
        "f = np.array(f)\n",
        "print(f.shape)\n",
        "\n",
        "\n",
        "k=0\n",
        "o = np.zeros((4,4))\n",
        "\n",
        "for l in range(4):\n",
        "  for m in range(4):\n",
        "    k=0\n",
        "    for i in range (3):\n",
        "      for j in range(3):\n",
        "        sum = np.dot(x[l+i][m+j],f[i][j])\n",
        "        k = k+sum\n",
        "        o[l,m]=k\n",
        "\n",
        "k=0\n",
        "print('Output activation map:',o)\n",
        "\n",
        "# Problem 3: Apply maxpool with the same filter dimension 3X3\n",
        "o1 = np.zeros((2,2))   #output of next layer\n",
        "for l in range(2):\n",
        "  for m in range(2):\n",
        "    k = np.max(o[l:l+3,m:m+3])        \n",
        "    o1[l,m]=k\n",
        "\n",
        "print('Output after maxpool operation:',o1)"
      ],
      "metadata": {
        "colab": {
          "base_uri": "https://localhost:8080/"
        },
        "id": "nNKlcSvRhpGi",
        "outputId": "8ae60573-86fc-43f3-84cf-9148db3a1aa7"
      },
      "execution_count": 89,
      "outputs": [
        {
          "output_type": "stream",
          "name": "stdout",
          "text": [
            "(6, 6)\n",
            "(3, 3)\n",
            "Output activation map: [[ 16.   9.  -4. -18.]\n",
            " [ 17.  -5. -10. -12.]\n",
            " [ 11.  -9. -17.   2.]\n",
            " [  9.  -1. -15.  16.]]\n",
            "Output after maxpool operation: [[17.  9.]\n",
            " [17. 16.]]\n"
          ]
        }
      ]
    }
  ]
}