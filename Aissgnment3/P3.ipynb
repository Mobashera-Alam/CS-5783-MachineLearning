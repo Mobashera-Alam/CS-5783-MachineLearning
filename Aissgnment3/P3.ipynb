{
  "nbformat": 4,
  "nbformat_minor": 0,
  "metadata": {
    "colab": {
      "provenance": [],
      "collapsed_sections": [],
      "authorship_tag": "ABX9TyN8tKwMYwiRFEqcIV2uijct",
      "include_colab_link": true
    },
    "kernelspec": {
      "name": "python3",
      "display_name": "Python 3"
    },
    "language_info": {
      "name": "python"
    }
  },
  "cells": [
    {
      "cell_type": "markdown",
      "metadata": {
        "id": "view-in-github",
        "colab_type": "text"
      },
      "source": [
        "<a href=\"https://colab.research.google.com/github/Mobashera-Alam/CS-5783-MachineLearning/blob/main/Aissgnment3/P3.ipynb\" target=\"_parent\"><img src=\"https://colab.research.google.com/assets/colab-badge.svg\" alt=\"Open In Colab\"/></a>"
      ]
    },
    {
      "cell_type": "markdown",
      "source": [
        "1. Dimension of input is 6*6*1 and dimension of Kernel is 3X3X1. \n",
        "No of parameters in the kernel = 3X3X1+1 = 10\n",
        "2. Output activation map = (W1-F+2P)/S +1 = 4X4X1 (no padding,P =0, S=1,W1=6,F=3)\n",
        "3. Output after maxpooling = (W1-F)/S +1= 2X2X1    (W1=4,F=3,S=1)\n"
      ],
      "metadata": {
        "id": "yfKIs-PotwCw"
      }
    }
  ]
}