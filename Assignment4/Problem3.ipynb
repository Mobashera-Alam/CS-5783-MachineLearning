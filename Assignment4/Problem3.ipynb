{
  "nbformat": 4,
  "nbformat_minor": 0,
  "metadata": {
    "colab": {
      "provenance": [],
      "authorship_tag": "ABX9TyNRCMKXfCOOLXnsH+RzDoml",
      "include_colab_link": true
    },
    "kernelspec": {
      "name": "python3",
      "display_name": "Python 3"
    },
    "language_info": {
      "name": "python"
    }
  },
  "cells": [
    {
      "cell_type": "markdown",
      "metadata": {
        "id": "view-in-github",
        "colab_type": "text"
      },
      "source": [
        "<a href=\"https://colab.research.google.com/github/Mobashera-Alam/CS-5783-MachineLearning/blob/main/Assignment4/Problem3.ipynb\" target=\"_parent\"><img src=\"https://colab.research.google.com/assets/colab-badge.svg\" alt=\"Open In Colab\"/></a>"
      ]
    },
    {
      "cell_type": "code",
      "execution_count": 147,
      "metadata": {
        "id": "XkWzyM-bD035"
      },
      "outputs": [],
      "source": [
        "import pandas as pd\n",
        "import numpy as np\n",
        "import matplotlib.pyplot as plt\n",
        "from math import sqrt"
      ]
    },
    {
      "cell_type": "code",
      "source": [
        "from google.colab import drive\n",
        "drive.mount('/content/drive')"
      ],
      "metadata": {
        "colab": {
          "base_uri": "https://localhost:8080/"
        },
        "id": "EkO1l3lNGY9i",
        "outputId": "75a59e52-bc49-4909-bc32-ca4ba8c21279"
      },
      "execution_count": 117,
      "outputs": [
        {
          "output_type": "stream",
          "name": "stdout",
          "text": [
            "Drive already mounted at /content/drive; to attempt to forcibly remount, call drive.mount(\"/content/drive\", force_remount=True).\n"
          ]
        }
      ]
    },
    {
      "cell_type": "code",
      "source": [
        "filename = \"/content/drive/My Drive/ML/Assignment4/Asssignment4_Data.xlsx\"\n",
        "train = pd.read_excel(filename, sheet_name= \"Train\")\n",
        "test = pd.read_excel(filename, sheet_name=\"Test\")\n",
        "#test"
      ],
      "metadata": {
        "id": "zCPqAD1IGe1P"
      },
      "execution_count": 148,
      "outputs": []
    },
    {
      "cell_type": "code",
      "source": [
        "x_train = train.drop([\"House ID\", \"Construction type\"], axis=1).to_numpy()\n",
        "x_test=test.drop([\"House ID\", \"Construction type\"], axis=1).to_numpy()\n",
        "#print(x_test)"
      ],
      "metadata": {
        "id": "WHbrPYjsHAcZ"
      },
      "execution_count": 149,
      "outputs": []
    },
    {
      "cell_type": "code",
      "source": [
        "train['Class']=train['Construction type'].map({'Apartment':0,'Condo':1,'House':2}) #label each class as numeric for training and test data\n",
        "test['Class']=test['Construction type'].map({'Apartment':0,'Condo':1,'House':2})\n",
        "\n",
        "y_train=train['Class'].to_numpy() #selecting labels\n",
        "\n",
        "y_test=test['Class'].to_numpy()\n",
        "#print(y_train)"
      ],
      "metadata": {
        "id": "sJH75FBpO2ar"
      },
      "execution_count": 150,
      "outputs": []
    },
    {
      "cell_type": "code",
      "source": [
        "#Data Standardizaiton\n",
        "mu = np.mean(x_train,axis=0)\n",
        "std = np.std(x_train,axis=0)\n",
        "norm_x_train = (x_train-mu)/std\n",
        "norm_x_test = (x_test-mu)/std\n",
        "#print(norm_x_test)\n",
        "print(y_test)"
      ],
      "metadata": {
        "colab": {
          "base_uri": "https://localhost:8080/"
        },
        "id": "IuCc_IGcHOcF",
        "outputId": "e0a6f542-32b8-4db2-97f7-adbaa57df3ad"
      },
      "execution_count": 151,
      "outputs": [
        {
          "output_type": "stream",
          "name": "stdout",
          "text": [
            "[0 2 2 0 0]\n"
          ]
        }
      ]
    },
    {
      "cell_type": "code",
      "source": [
        "class KNearestNeighbor():\n",
        "  def __init__(self,k):\n",
        "    self.k=k\n",
        "  def train(self, x,y):\n",
        "    self.x_train = norm_x_train\n",
        "    self.y_train = y_train\n",
        "  def predict(self,x_test):\n",
        "    distances = self.eucleadian_distance(x_test)\n",
        "    return self.predict_labels(distances)\n",
        "\n",
        "  def eucleadian_distance(self, x_test):\n",
        "    num_test = x_test.shape[0]\n",
        "    num_train = self.x_train.shape[0]\n",
        "    distances = np.zeros((num_test,num_train))\n",
        "    for i in range(num_test):\n",
        "      for j in range(num_train):\n",
        "        distances[i,j] = np.sqrt(np.sum((x_test[i,:]-self.x_train[j,:])**2))    # Euclidean distance\n",
        "    return distances \n",
        "\n",
        "  def predict_labels(self, distances):\n",
        "    num_test = distances.shape[0]\n",
        "    y_pred = np.zeros(num_test)\n",
        "\n",
        "    for i in range(num_test):\n",
        "      y_indices = np.argsort(distances[i,:])\n",
        "      k_close_class = self.y_train[y_indices[:self.k]].astype(int)\n",
        "      y_pred[i] = np.argmax(np.bincount(k_close_class))\n",
        "    return y_pred"
      ],
      "metadata": {
        "id": "SwVt7rz9ZcTo"
      },
      "execution_count": 152,
      "outputs": []
    },
    {
      "cell_type": "code",
      "source": [
        "x = np.array(norm_x_train)\n",
        "y = np.array(y_train)\n",
        "y_t = np.array(y_test)\n",
        "x_t = np.array(norm_x_test)\n",
        "out_train = []\n",
        "out_test = []\n",
        "k_num = [1,2,3,4,5]\n",
        "for i in range(len(k_num)):\n",
        "  KNN = KNearestNeighbor(k=k_num[i])\n",
        "  KNN.train(x,y)\n",
        "  y_pred_train = KNN.predict(x)\n",
        "  acc_t = np.sum(y_pred_train==y)/y.shape[0]\n",
        "  out_train.insert(i,acc_t)\n",
        "  y_pred_test = KNN.predict(x_t)\n",
        "  acc_te = np.sum(y_pred_test==y_t)/y_t.shape[0]\n",
        "  out_test.insert(i,acc_te)\n",
        "plt.plot(k_num,out_train,label = 'Train Performance')\n",
        "plt.plot(k_num,out_test, label = 'Test Performance')\n",
        "plt.xticks(range(1,6,1))\n",
        "plt.xlabel('Neighbor, k')\n",
        "plt.ylabel('Accuracy')\n",
        "plt.title('Accuracy of KNN algorithm for Various Neighbor, k ')\n",
        "plt.legend()\n",
        "\n"
      ],
      "metadata": {
        "colab": {
          "base_uri": "https://localhost:8080/",
          "height": 312
        },
        "id": "iYcO3vOMVkrz",
        "outputId": "1e0d9677-52fc-48f7-cc5c-886bf063e2f5"
      },
      "execution_count": 153,
      "outputs": [
        {
          "output_type": "execute_result",
          "data": {
            "text/plain": [
              "<matplotlib.legend.Legend at 0x7fb5dc2bf3d0>"
            ]
          },
          "metadata": {},
          "execution_count": 153
        },
        {
          "output_type": "display_data",
          "data": {
            "text/plain": [
              "<Figure size 432x288 with 1 Axes>"
            ],
            "image/png": "[encoded data removed]"
          },
          "metadata": {
            "needs_background": "light"
          }
        }
      ]
    },
    {
      "cell_type": "code",
      "source": [
        "#Best Performance\n",
        "x = np.array(norm_x_train)\n",
        "y = np.array(y_train)\n",
        "y_t = np.array(y_test)\n",
        "x_t = np.array(norm_x_test)\n",
        "\n",
        "KNN1 = KNearestNeighbor(k=2)\n",
        "KNN1.train(x,y)\n",
        "#print(x_t)\n",
        "print(KNN1.predict(x_t))\n",
        "y_pred_test_b = KNN1.predict(x_t)\n",
        "\n",
        "y_b = y_pred_test_b.astype(int)\n",
        "print('For k=2:', test['Construction type'][y_b])\n"
      ],
      "metadata": {
        "colab": {
          "base_uri": "https://localhost:8080/"
        },
        "id": "OYgFnpJwVAo1",
        "outputId": "2aadb0a1-d722-4cf4-b022-100757f4eb26"
      },
      "execution_count": 158,
      "outputs": [
        {
          "output_type": "stream",
          "name": "stdout",
          "text": [
            "[0. 0. 0. 0. 0.]\n",
            "For k=2: 0    Apartment\n",
            "0    Apartment\n",
            "0    Apartment\n",
            "0    Apartment\n",
            "0    Apartment\n",
            "Name: Construction type, dtype: object\n"
          ]
        }
      ]
    },
    {
      "cell_type": "markdown",
      "source": [
        "variance reduces with the increase k=1 to 2 increase bias but decrease variance. Bias remains same as 2 to 4 and then decreases from 4 to 5. So, variance increases 4 to 5.   "
      ],
      "metadata": {
        "id": "8MaU0tuPlVLy"
      }
    }
  ]
}