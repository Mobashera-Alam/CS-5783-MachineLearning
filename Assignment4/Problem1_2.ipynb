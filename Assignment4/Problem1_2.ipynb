{
  "nbformat": 4,
  "nbformat_minor": 0,
  "metadata": {
    "colab": {
      "provenance": [],
      "authorship_tag": "ABX9TyP+MJmKje8di2lTsz9B8sbr",
      "include_colab_link": true
    },
    "kernelspec": {
      "name": "python3",
      "display_name": "Python 3"
    },
    "language_info": {
      "name": "python"
    }
  },
  "cells": [
    {
      "cell_type": "markdown",
      "metadata": {
        "id": "view-in-github",
        "colab_type": "text"
      },
      "source": [
        "<a href=\"https://colab.research.google.com/github/Mobashera-Alam/CS-5783-MachineLearning/blob/main/Assignment4/Problem1_2.ipynb\" target=\"_parent\"><img src=\"https://colab.research.google.com/assets/colab-badge.svg\" alt=\"Open In Colab\"/></a>"
      ]
    },
    {
      "cell_type": "code",
      "execution_count": 202,
      "metadata": {
        "id": "f-gRbiKhzTgC"
      },
      "outputs": [],
      "source": [
        "import numpy as np\n",
        "import matplotlib.pyplot as plt\n",
        "import pandas as pd"
      ]
    },
    {
      "cell_type": "code",
      "source": [
        "from google.colab import drive\n",
        "drive.mount('/content/drive')"
      ],
      "metadata": {
        "colab": {
          "base_uri": "https://localhost:8080/"
        },
        "id": "uYLdCsIOzwYC",
        "outputId": "124b2525-bd87-4ab8-b761-aa7cc34067d1"
      },
      "execution_count": 203,
      "outputs": [
        {
          "output_type": "stream",
          "name": "stdout",
          "text": [
            "Drive already mounted at /content/drive; to attempt to forcibly remount, call drive.mount(\"/content/drive\", force_remount=True).\n"
          ]
        }
      ]
    },
    {
      "cell_type": "code",
      "source": [
        "filename = \"/content/drive/My Drive/ML/Assignment4/Asssignment4_Data.xlsx\"\n",
        "train = pd.DataFrame()\n",
        "test = pd.DataFrame()\n",
        "train = pd.read_excel(filename, sheet_name= \"Train\")\n",
        "test = pd.read_excel(filename, sheet_name=\"Test\")\n",
        "test"
      ],
      "metadata": {
        "colab": {
          "base_uri": "https://localhost:8080/",
          "height": 206
        },
        "id": "WWxuzJoszxQZ",
        "outputId": "abd45110-b225-47aa-c229-a7808f032093"
      },
      "execution_count": 220,
      "outputs": [
        {
          "output_type": "execute_result",
          "data": {
            "text/plain": [
              "   House ID  Local Price  Bathrooms  Land Area  Living area  # Garages  \\\n",
              "0        24       6.0931        1.5     6.7265        1.652        1.0   \n",
              "1        25       8.3607        1.5     9.1500        1.777        2.0   \n",
              "2        26       8.1400        1.0     8.0000        1.504        2.0   \n",
              "3        27       9.1416        1.5     7.3262        1.831        1.5   \n",
              "4        28      12.0000        1.5     5.0000        1.200        2.0   \n",
              "\n",
              "   # Rooms  # Bedrooms  Age of home Construction type  \n",
              "0        6           3           44         Apartment  \n",
              "1        8           4           48             House  \n",
              "2        7           3            3             House  \n",
              "3        8           4           31         Apartment  \n",
              "4        6           3           30         Apartment  "
            ],
            "text/html": [
              "\n",
              "  <div id=\"df-c33caa2e-67af-40ff-b50c-a09db141ffd9\">\n",
              "    <div class=\"colab-df-container\">\n",
              "      <div>\n",
              "<style scoped>\n",
              "    .dataframe tbody tr th:only-of-type {\n",
              "        vertical-align: middle;\n",
              "    }\n",
              "\n",
              "    .dataframe tbody tr th {\n",
              "        vertical-align: top;\n",
              "    }\n",
              "\n",
              "    .dataframe thead th {\n",
              "        text-align: right;\n",
              "    }\n",
              "</style>\n",
              "<table border=\"1\" class=\"dataframe\">\n",
              "  <thead>\n",
              "    <tr style=\"text-align: right;\">\n",
              "      <th></th>\n",
              "      <th>House ID</th>\n",
              "      <th>Local Price</th>\n",
              "      <th>Bathrooms</th>\n",
              "      <th>Land Area</th>\n",
              "      <th>Living area</th>\n",
              "      <th># Garages</th>\n",
              "      <th># Rooms</th>\n",
              "      <th># Bedrooms</th>\n",
              "      <th>Age of home</th>\n",
              "      <th>Construction type</th>\n",
              "    </tr>\n",
              "  </thead>\n",
              "  <tbody>\n",
              "    <tr>\n",
              "      <th>0</th>\n",
              "      <td>24</td>\n",
              "      <td>6.0931</td>\n",
              "      <td>1.5</td>\n",
              "      <td>6.7265</td>\n",
              "      <td>1.652</td>\n",
              "      <td>1.0</td>\n",
              "      <td>6</td>\n",
              "      <td>3</td>\n",
              "      <td>44</td>\n",
              "      <td>Apartment</td>\n",
              "    </tr>\n",
              "    <tr>\n",
              "      <th>1</th>\n",
              "      <td>25</td>\n",
              "      <td>8.3607</td>\n",
              "      <td>1.5</td>\n",
              "      <td>9.1500</td>\n",
              "      <td>1.777</td>\n",
              "      <td>2.0</td>\n",
              "      <td>8</td>\n",
              "      <td>4</td>\n",
              "      <td>48</td>\n",
              "      <td>House</td>\n",
              "    </tr>\n",
              "    <tr>\n",
              "      <th>2</th>\n",
              "      <td>26</td>\n",
              "      <td>8.1400</td>\n",
              "      <td>1.0</td>\n",
              "      <td>8.0000</td>\n",
              "      <td>1.504</td>\n",
              "      <td>2.0</td>\n",
              "      <td>7</td>\n",
              "      <td>3</td>\n",
              "      <td>3</td>\n",
              "      <td>House</td>\n",
              "    </tr>\n",
              "    <tr>\n",
              "      <th>3</th>\n",
              "      <td>27</td>\n",
              "      <td>9.1416</td>\n",
              "      <td>1.5</td>\n",
              "      <td>7.3262</td>\n",
              "      <td>1.831</td>\n",
              "      <td>1.5</td>\n",
              "      <td>8</td>\n",
              "      <td>4</td>\n",
              "      <td>31</td>\n",
              "      <td>Apartment</td>\n",
              "    </tr>\n",
              "    <tr>\n",
              "      <th>4</th>\n",
              "      <td>28</td>\n",
              "      <td>12.0000</td>\n",
              "      <td>1.5</td>\n",
              "      <td>5.0000</td>\n",
              "      <td>1.200</td>\n",
              "      <td>2.0</td>\n",
              "      <td>6</td>\n",
              "      <td>3</td>\n",
              "      <td>30</td>\n",
              "      <td>Apartment</td>\n",
              "    </tr>\n",
              "  </tbody>\n",
              "</table>\n",
              "</div>\n",
              "      <button class=\"colab-df-convert\" onclick=\"convertToInteractive('df-c33caa2e-67af-40ff-b50c-a09db141ffd9')\"\n",
              "              title=\"Convert this dataframe to an interactive table.\"\n",
              "              style=\"display:none;\">\n",
              "        \n",
              "  <svg xmlns=\"http://www.w3.org/2000/svg\" height=\"24px\"viewBox=\"0 0 24 24\"\n",
              "       width=\"24px\">\n",
              "    <path d=\"M0 0h24v24H0V0z\" fill=\"none\"/>\n",
              "    <path d=\"M18.56 5.44l.94 2.06.94-2.06 2.06-.94-2.06-.94-.94-2.06-.94 2.06-2.06.94zm-11 1L8.5 8.5l.94-2.06 2.06-.94-2.06-.94L8.5 2.5l-.94 2.06-2.06.94zm10 10l.94 2.06.94-2.06 2.06-.94-2.06-.94-.94-2.06-.94 2.06-2.06.94z\"/><path d=\"M17.41 7.96l-1.37-1.37c-.4-.4-.92-.59-1.43-.59-.52 0-1.04.2-1.43.59L10.3 9.45l-7.72 7.72c-.78.78-.78 2.05 0 2.83L4 21.41c.39.39.9.59 1.41.59.51 0 1.02-.2 1.41-.59l7.78-7.78 2.81-2.81c.8-.78.8-2.07 0-2.86zM5.41 20L4 18.59l7.72-7.72 1.47 1.35L5.41 20z\"/>\n",
              "  </svg>\n",
              "      </button>\n",
              "      \n",
              "  <style>\n",
              "    .colab-df-container {\n",
              "      display:flex;\n",
              "      flex-wrap:wrap;\n",
              "      gap: 12px;\n",
              "    }\n",
              "\n",
              "    .colab-df-convert {\n",
              "      background-color: #E8F0FE;\n",
              "      border: none;\n",
              "      border-radius: 50%;\n",
              "      cursor: pointer;\n",
              "      display: none;\n",
              "      fill: #1967D2;\n",
              "      height: 32px;\n",
              "      padding: 0 0 0 0;\n",
              "      width: 32px;\n",
              "    }\n",
              "\n",
              "    .colab-df-convert:hover {\n",
              "      background-color: #E2EBFA;\n",
              "      box-shadow: 0px 1px 2px rgba(60, 64, 67, 0.3), 0px 1px 3px 1px rgba(60, 64, 67, 0.15);\n",
              "      fill: #174EA6;\n",
              "    }\n",
              "\n",
              "    [theme=dark] .colab-df-convert {\n",
              "      background-color: #3B4455;\n",
              "      fill: #D2E3FC;\n",
              "    }\n",
              "\n",
              "    [theme=dark] .colab-df-convert:hover {\n",
              "      background-color: #434B5C;\n",
              "      box-shadow: 0px 1px 3px 1px rgba(0, 0, 0, 0.15);\n",
              "      filter: drop-shadow(0px 1px 2px rgba(0, 0, 0, 0.3));\n",
              "      fill: #FFFFFF;\n",
              "    }\n",
              "  </style>\n",
              "\n",
              "      <script>\n",
              "        const buttonEl =\n",
              "          document.querySelector('#df-c33caa2e-67af-40ff-b50c-a09db141ffd9 button.colab-df-convert');\n",
              "        buttonEl.style.display =\n",
              "          google.colab.kernel.accessAllowed ? 'block' : 'none';\n",
              "\n",
              "        async function convertToInteractive(key) {\n",
              "          const element = document.querySelector('#df-c33caa2e-67af-40ff-b50c-a09db141ffd9');\n",
              "          const dataTable =\n",
              "            await google.colab.kernel.invokeFunction('convertToInteractive',\n",
              "                                                     [key], {});\n",
              "          if (!dataTable) return;\n",
              "\n",
              "          const docLinkHtml = 'Like what you see? Visit the ' +\n",
              "            '<a target=\"_blank\" href=https://colab.research.google.com/notebooks/data_table.ipynb>data table notebook</a>'\n",
              "            + ' to learn more about interactive tables.';\n",
              "          element.innerHTML = '';\n",
              "          dataTable['output_type'] = 'display_data';\n",
              "          await google.colab.output.renderOutput(dataTable, element);\n",
              "          const docLink = document.createElement('div');\n",
              "          docLink.innerHTML = docLinkHtml;\n",
              "          element.appendChild(docLink);\n",
              "        }\n",
              "      </script>\n",
              "    </div>\n",
              "  </div>\n",
              "  "
            ]
          },
          "metadata": {},
          "execution_count": 220
        }
      ]
    },
    {
      "cell_type": "code",
      "source": [
        "train_apt = train[train['Construction type']=='Apartment']\n",
        "train_con = train[train['Construction type']=='Condo']\n",
        "train_hou = train[train['Construction type']=='House']\n",
        "#train_hou\n"
      ],
      "metadata": {
        "id": "6kseosZ27Aag"
      },
      "execution_count": 221,
      "outputs": []
    },
    {
      "cell_type": "code",
      "source": [
        "#From conditional probability table taking mean and variance of features for each class\n",
        "mean_apt = [7.3327, 1.2857, 6.1038, 1.505, 1.2143, 6.8571, 3.4285, 38.7143]\n",
        "var_apt =[13.0754, 0.3214, 10.6179, 0.4958, 0.4881, 1.8095, 0.9523, 215.5714]\n",
        "mean_con=[7.4159, 1.3333, 6.0247, 1.5533, 1.3333, 6.8333, 3.3333, 39.6667]\n",
        "var_con = [21.2636, 0.3667, 6.4759, 0.8527, 0.2667, 2.5667, 0.6667, 194.6667]\n",
        "mean_hou = [5.7607, 1.0714, 6.6309, 1.3917, 1.0714, 6.1429, 3.0, 34.2857] \n",
        "var_hou = [0.3250, 0.0357, 5.0579, 0.0453, 0.7023, 0.4762, 0.3333, 161.9048]\n"
      ],
      "metadata": {
        "id": "NJoESs7b9zvR"
      },
      "execution_count": 222,
      "outputs": []
    },
    {
      "cell_type": "code",
      "source": [
        "P_feat_apt = np.zeros((5,8))\n",
        "P_feat_con = np.zeros((5,8))\n",
        "P_feat_hou = np.zeros((5,8))\n",
        "\n"
      ],
      "metadata": {
        "id": "ZaplsqRpHeG8"
      },
      "execution_count": 223,
      "outputs": []
    },
    {
      "cell_type": "code",
      "source": [
        "test1 = test[['Local Price',\t'Bathrooms',\t'Land Area'\t,'Living area'\t,'# Garages'\t,'# Rooms','# Bedrooms',\t'Age of home']]\n",
        "test1[['Local Price',\t'Bathrooms',\t'Land Area'\t,'Living area'\t,'# Garages'\t,'# Rooms','# Bedrooms',\t'Age of home']] = test1[['Local Price',\t'Bathrooms',\t'Land Area'\t,'Living area'\t,'# Garages'\t,'# Rooms','# Bedrooms',\t'Age of home']].astype(float)\n",
        "\n",
        "test2 = np.array(test1)\n",
        "\n"
      ],
      "metadata": {
        "colab": {
          "base_uri": "https://localhost:8080/"
        },
        "id": "M6E8kHznOTjq",
        "outputId": "a9b11511-7ea7-4314-b644-5b05e521a50f"
      },
      "execution_count": 224,
      "outputs": [
        {
          "output_type": "stream",
          "name": "stderr",
          "text": [
            "/usr/local/lib/python3.7/dist-packages/pandas/core/frame.py:3641: SettingWithCopyWarning: \n",
            "A value is trying to be set on a copy of a slice from a DataFrame.\n",
            "Try using .loc[row_indexer,col_indexer] = value instead\n",
            "\n",
            "See the caveats in the documentation: https://pandas.pydata.org/pandas-docs/stable/user_guide/indexing.html#returning-a-view-versus-a-copy\n",
            "  self[k1] = value[k2]\n"
          ]
        }
      ]
    },
    {
      "cell_type": "code",
      "source": [
        "#using gaussian distribution probability density function using Maximum A posterior\n",
        "\n",
        "from math import pi\n",
        "def density_func(mean,var,sam):\n",
        "  def_fun = (1/np.sqrt(2*pi*var))*np.exp(-(sam-mean)**2/(2*var))\n",
        "  return def_fun\n",
        "for i in range (len(mean_con)):\n",
        "  for j in range(5):\n",
        "    P_feat_apt[j,i] = density_func(mean_apt[i],var_apt[i],test2[j,i])\n",
        "    P_feat_con[j,i] = density_func(mean_con[i], var_con[i], test2[j,i])\n",
        "    P_feat_hou[j,i] = density_func(mean_hou[i], var_hou[i], test2[j,i])\n",
        "#print(\"Probability of each features given apartment\",P_feat_apt)\n",
        "#print(\"Probability of each features given condum\", P_feat_con)\n",
        "#print(\"Probability of each features given house \", P_feat_hou)\n"
      ],
      "metadata": {
        "id": "efY1K_0rGkJF"
      },
      "execution_count": 225,
      "outputs": []
    },
    {
      "cell_type": "code",
      "source": [
        "P_apt = 7/20\n",
        "P_con = 6/20\n",
        "P_hou = 7/20\n",
        "\n",
        "P_Apt_feat = []\n",
        "P_Con_feat = []\n",
        "P_Hou_feat = []\n",
        "\n",
        "#Assuming the probabilites of features given classes are mutually independent\n",
        "for l in range(5):\n",
        "  new_mul_apt=1\n",
        "  new_mul_con = 1\n",
        "  new_mul_hou = 1\n",
        "  for w in range(8):\n",
        "    new_mul_apt = new_mul_apt* P_feat_apt[l,w]    #ignoring marginal probability base on Maximum A posterior\n",
        "    new_mul_con = new_mul_con* P_feat_con[l,w]\n",
        "    new_mul_hou = new_mul_hou* P_feat_hou[l,w]\n",
        "  P_Apt_feat.insert(l, P_apt*new_mul_apt)\n",
        "  P_Con_feat.insert(l,P_con*new_mul_con)\n",
        "  P_Hou_feat.insert(l,P_hou*new_mul_hou)\n",
        "\n",
        "print('Probability of each example to have label Apartment:',P_Apt_feat)\n",
        "print('Probability of each example to have label Condum:',P_Con_feat)\n",
        "print('Probability of each example to have label House:',P_Hou_feat)"
      ],
      "metadata": {
        "colab": {
          "base_uri": "https://localhost:8080/"
        },
        "id": "c-YQ6ikMe2xN",
        "outputId": "e77a01ae-9bf0-4942-faac-ea60f444e4e2"
      },
      "execution_count": 226,
      "outputs": [
        {
          "output_type": "stream",
          "name": "stdout",
          "text": [
            "Probability of each example to have label Apartment: [1.982298806866452e-06, 4.85553769825665e-07, 6.403441547672148e-08, 1.1474907779641714e-06, 4.0747121261129593e-07]\n",
            "Probability of each example to have label Condum: [1.7116920039722544e-06, 2.6787816356804787e-07, 2.456611585898113e-08, 1.0079093588647272e-06, 4.304797726821291e-07]\n",
            "Probability of each example to have label House: [2.2752066796844448e-05, 4.463790155808397e-13, 1.387124848271502e-09, 1.0350846921968358e-15, 1.9607773664018742e-31]\n"
          ]
        }
      ]
    },
    {
      "cell_type": "code",
      "source": [
        "P = []\n",
        "for i in range (5):\n",
        "  P.insert(i,max(P_Apt_feat[i],P_Con_feat[i], P_Hou_feat[i]))\n",
        "  if P[i] == P_Apt_feat[i]:\n",
        "    print(\"Example\",i+1,\"Apartment\")\n",
        "  elif P[i]== P_Con_feat[i]:\n",
        "    print(\"Example\",i+1,\"Condum\")\n",
        "  else:\n",
        "    print(\"Example\",i+1,\"House\")\n",
        "\n"
      ],
      "metadata": {
        "colab": {
          "base_uri": "https://localhost:8080/"
        },
        "id": "cracGAna25e3",
        "outputId": "ffae8727-3fd0-4839-917e-83a9b1f44d08"
      },
      "execution_count": 227,
      "outputs": [
        {
          "output_type": "stream",
          "name": "stdout",
          "text": [
            "Example 1 House\n",
            "Example 2 Apartment\n",
            "Example 3 Apartment\n",
            "Example 4 Apartment\n",
            "Example 5 Condum\n"
          ]
        }
      ]
    }
  ]
}